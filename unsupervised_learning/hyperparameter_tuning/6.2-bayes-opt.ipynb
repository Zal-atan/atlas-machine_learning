{
 "cells": [
  {
   "cell_type": "code",
   "execution_count": 2,
   "metadata": {},
   "outputs": [
    {
     "name": "stderr",
     "output_type": "stream",
     "text": [
      "WARNING:absl:At this time, the v2.11+ optimizer `tf.keras.optimizers.Adam` runs slowly on M1/M2 Macs, please use the legacy Keras optimizer instead, located at `tf.keras.optimizers.legacy.Adam`.\n",
      "WARNING:absl:`lr` is deprecated in Keras optimizer, please use `learning_rate` or use the legacy optimizer, e.g.,tf.keras.optimizers.legacy.Adam.\n",
      "WARNING:absl:There is a known slowdown when using v2.11+ Keras optimizers on M1/M2 Macs. Falling back to the legacy Keras optimizer, i.e., `tf.keras.optimizers.legacy.Adam`.\n"
     ]
    },
    {
     "name": "stdout",
     "output_type": "stream",
     "text": [
      "Epoch 1/5\n"
     ]
    },
    {
     "name": "stderr",
     "output_type": "stream",
     "text": [
      "2024-06-09 16:17:05.432265: I tensorflow/core/grappler/optimizers/custom_graph_optimizer_registry.cc:114] Plugin optimizer for device_type GPU is enabled.\n"
     ]
    },
    {
     "name": "stdout",
     "output_type": "stream",
     "text": [
      "391/391 [==============================] - ETA: 0s - loss: 0.8814 - accuracy: 0.7255"
     ]
    },
    {
     "name": "stderr",
     "output_type": "stream",
     "text": [
      "2024-06-09 16:18:36.595650: I tensorflow/core/grappler/optimizers/custom_graph_optimizer_registry.cc:114] Plugin optimizer for device_type GPU is enabled.\n"
     ]
    },
    {
     "name": "stdout",
     "output_type": "stream",
     "text": [
      "\n",
      "Epoch 1: val_accuracy improved from -inf to 0.61830, saving model to /Users/ezalta/Documents/GitHub/atlas-machine_learning/unsupervised_learning//hyperparameter_tuning/ckpt_lr_0.00859_beta1_0.9025_beta2_0.9925_epochs_5_batch_128.h5\n",
      "391/391 [==============================] - 100s 245ms/step - loss: 0.8814 - accuracy: 0.7255 - val_loss: 1.3810 - val_accuracy: 0.6183\n",
      "Epoch 2/5\n",
      "391/391 [==============================] - ETA: 0s - loss: 0.4896 - accuracy: 0.8502\n",
      "Epoch 2: val_accuracy improved from 0.61830 to 0.81490, saving model to /Users/ezalta/Documents/GitHub/atlas-machine_learning/unsupervised_learning//hyperparameter_tuning/ckpt_lr_0.00859_beta1_0.9025_beta2_0.9925_epochs_5_batch_128.h5\n",
      "391/391 [==============================] - 87s 223ms/step - loss: 0.4896 - accuracy: 0.8502 - val_loss: 0.6079 - val_accuracy: 0.8149\n",
      "Epoch 3/5\n",
      "391/391 [==============================] - ETA: 0s - loss: 0.3714 - accuracy: 0.8870\n",
      "Epoch 3: val_accuracy did not improve from 0.81490\n",
      "391/391 [==============================] - 88s 225ms/step - loss: 0.3714 - accuracy: 0.8870 - val_loss: 0.6829 - val_accuracy: 0.8014\n",
      "Epoch 4/5\n",
      "391/391 [==============================] - ETA: 0s - loss: 0.2895 - accuracy: 0.9106\n",
      "Epoch 4: val_accuracy did not improve from 0.81490\n",
      "391/391 [==============================] - 89s 226ms/step - loss: 0.2895 - accuracy: 0.9106 - val_loss: 0.6791 - val_accuracy: 0.7996\n",
      "Epoch 5/5\n",
      "391/391 [==============================] - ETA: 0s - loss: 0.2308 - accuracy: 0.9279\n",
      "Epoch 5: val_accuracy did not improve from 0.81490\n",
      "391/391 [==============================] - 88s 226ms/step - loss: 0.2308 - accuracy: 0.9279 - val_loss: 0.7022 - val_accuracy: 0.7986\n"
     ]
    },
    {
     "name": "stderr",
     "output_type": "stream",
     "text": [
      "WARNING:absl:At this time, the v2.11+ optimizer `tf.keras.optimizers.Adam` runs slowly on M1/M2 Macs, please use the legacy Keras optimizer instead, located at `tf.keras.optimizers.legacy.Adam`.\n",
      "WARNING:absl:`lr` is deprecated in Keras optimizer, please use `learning_rate` or use the legacy optimizer, e.g.,tf.keras.optimizers.legacy.Adam.\n",
      "WARNING:absl:There is a known slowdown when using v2.11+ Keras optimizers on M1/M2 Macs. Falling back to the legacy Keras optimizer, i.e., `tf.keras.optimizers.legacy.Adam`.\n"
     ]
    },
    {
     "name": "stdout",
     "output_type": "stream",
     "text": [
      "Epoch 1/15\n"
     ]
    },
    {
     "name": "stderr",
     "output_type": "stream",
     "text": [
      "2024-06-09 16:24:40.509582: I tensorflow/core/grappler/optimizers/custom_graph_optimizer_registry.cc:114] Plugin optimizer for device_type GPU is enabled.\n"
     ]
    },
    {
     "name": "stdout",
     "output_type": "stream",
     "text": [
      "1563/1563 [==============================] - ETA: 0s - loss: 1.1367 - accuracy: 0.6265"
     ]
    },
    {
     "name": "stderr",
     "output_type": "stream",
     "text": [
      "2024-06-09 16:26:56.837623: I tensorflow/core/grappler/optimizers/custom_graph_optimizer_registry.cc:114] Plugin optimizer for device_type GPU is enabled.\n"
     ]
    },
    {
     "name": "stdout",
     "output_type": "stream",
     "text": [
      "\n",
      "Epoch 1: val_accuracy improved from -inf to 0.71410, saving model to /Users/ezalta/Documents/GitHub/atlas-machine_learning/unsupervised_learning//hyperparameter_tuning/ckpt_lr_0.00062_beta1_0.9495_beta2_0.9989_epochs_15_batch_32.h5\n",
      "1563/1563 [==============================] - 147s 90ms/step - loss: 1.1367 - accuracy: 0.6265 - val_loss: 0.9075 - val_accuracy: 0.7141\n",
      "Epoch 2/15\n",
      "1563/1563 [==============================] - ETA: 0s - loss: 0.6870 - accuracy: 0.7819\n",
      "Epoch 2: val_accuracy improved from 0.71410 to 0.72160, saving model to /Users/ezalta/Documents/GitHub/atlas-machine_learning/unsupervised_learning//hyperparameter_tuning/ckpt_lr_0.00062_beta1_0.9495_beta2_0.9989_epochs_15_batch_32.h5\n",
      "1563/1563 [==============================] - 128s 82ms/step - loss: 0.6870 - accuracy: 0.7819 - val_loss: 0.8397 - val_accuracy: 0.7216\n",
      "Epoch 3/15\n",
      "1563/1563 [==============================] - ETA: 0s - loss: 0.5381 - accuracy: 0.8293\n",
      "Epoch 3: val_accuracy improved from 0.72160 to 0.75970, saving model to /Users/ezalta/Documents/GitHub/atlas-machine_learning/unsupervised_learning//hyperparameter_tuning/ckpt_lr_0.00062_beta1_0.9495_beta2_0.9989_epochs_15_batch_32.h5\n",
      "1563/1563 [==============================] - 127s 81ms/step - loss: 0.5381 - accuracy: 0.8293 - val_loss: 0.7581 - val_accuracy: 0.7597\n",
      "Epoch 4/15\n",
      "1563/1563 [==============================] - ETA: 0s - loss: 0.4370 - accuracy: 0.8613\n",
      "Epoch 4: val_accuracy improved from 0.75970 to 0.80150, saving model to /Users/ezalta/Documents/GitHub/atlas-machine_learning/unsupervised_learning//hyperparameter_tuning/ckpt_lr_0.00062_beta1_0.9495_beta2_0.9989_epochs_15_batch_32.h5\n",
      "1563/1563 [==============================] - 128s 82ms/step - loss: 0.4370 - accuracy: 0.8613 - val_loss: 0.5946 - val_accuracy: 0.8015\n",
      "Epoch 5/15\n",
      "1563/1563 [==============================] - ETA: 0s - loss: 0.3552 - accuracy: 0.8870\n",
      "Epoch 5: val_accuracy improved from 0.80150 to 0.81750, saving model to /Users/ezalta/Documents/GitHub/atlas-machine_learning/unsupervised_learning//hyperparameter_tuning/ckpt_lr_0.00062_beta1_0.9495_beta2_0.9989_epochs_15_batch_32.h5\n",
      "1563/1563 [==============================] - 134s 85ms/step - loss: 0.3552 - accuracy: 0.8870 - val_loss: 0.5712 - val_accuracy: 0.8175\n",
      "Epoch 6/15\n",
      "1563/1563 [==============================] - ETA: 0s - loss: 0.2954 - accuracy: 0.9059\n",
      "Epoch 6: val_accuracy improved from 0.81750 to 0.86900, saving model to /Users/ezalta/Documents/GitHub/atlas-machine_learning/unsupervised_learning//hyperparameter_tuning/ckpt_lr_0.00062_beta1_0.9495_beta2_0.9989_epochs_15_batch_32.h5\n",
      "1563/1563 [==============================] - 130s 83ms/step - loss: 0.2954 - accuracy: 0.9059 - val_loss: 0.4082 - val_accuracy: 0.8690\n",
      "Epoch 7/15\n",
      "1563/1563 [==============================] - ETA: 0s - loss: 0.2504 - accuracy: 0.9199\n",
      "Epoch 7: val_accuracy did not improve from 0.86900\n",
      "1563/1563 [==============================] - 128s 82ms/step - loss: 0.2504 - accuracy: 0.9199 - val_loss: 0.4017 - val_accuracy: 0.8688\n",
      "Epoch 8/15\n",
      "1563/1563 [==============================] - ETA: 0s - loss: 0.1972 - accuracy: 0.9381\n",
      "Epoch 8: val_accuracy improved from 0.86900 to 0.88190, saving model to /Users/ezalta/Documents/GitHub/atlas-machine_learning/unsupervised_learning//hyperparameter_tuning/ckpt_lr_0.00062_beta1_0.9495_beta2_0.9989_epochs_15_batch_32.h5\n",
      "1563/1563 [==============================] - 127s 82ms/step - loss: 0.1972 - accuracy: 0.9381 - val_loss: 0.3851 - val_accuracy: 0.8819\n",
      "Epoch 9/15\n",
      "1563/1563 [==============================] - ETA: 0s - loss: 0.1648 - accuracy: 0.9469\n",
      "Epoch 9: val_accuracy did not improve from 0.88190\n",
      "1563/1563 [==============================] - 126s 81ms/step - loss: 0.1648 - accuracy: 0.9469 - val_loss: 0.3928 - val_accuracy: 0.8777\n",
      "Epoch 10/15\n",
      "1563/1563 [==============================] - ETA: 0s - loss: 0.1399 - accuracy: 0.9545\n",
      "Epoch 10: val_accuracy did not improve from 0.88190\n",
      "1563/1563 [==============================] - 126s 80ms/step - loss: 0.1399 - accuracy: 0.9545 - val_loss: 0.4022 - val_accuracy: 0.8784\n",
      "Epoch 11/15\n",
      "1563/1563 [==============================] - ETA: 0s - loss: 0.1219 - accuracy: 0.9614\n",
      "Epoch 11: val_accuracy did not improve from 0.88190\n",
      "1563/1563 [==============================] - 126s 80ms/step - loss: 0.1219 - accuracy: 0.9614 - val_loss: 0.4090 - val_accuracy: 0.8808\n",
      "Epoch 12/15\n",
      "1563/1563 [==============================] - ETA: 0s - loss: 0.1052 - accuracy: 0.9667\n",
      "Epoch 12: val_accuracy did not improve from 0.88190\n",
      "1563/1563 [==============================] - 125s 80ms/step - loss: 0.1052 - accuracy: 0.9667 - val_loss: 0.4276 - val_accuracy: 0.8735\n",
      "Epoch 13/15\n",
      "1563/1563 [==============================] - ETA: 0s - loss: 0.0919 - accuracy: 0.9700\n",
      "Epoch 13: val_accuracy did not improve from 0.88190\n",
      "1563/1563 [==============================] - 127s 81ms/step - loss: 0.0919 - accuracy: 0.9700 - val_loss: 0.4516 - val_accuracy: 0.8733\n",
      "Epoch 13: early stopping\n"
     ]
    },
    {
     "name": "stderr",
     "output_type": "stream",
     "text": [
      "WARNING:absl:At this time, the v2.11+ optimizer `tf.keras.optimizers.Adam` runs slowly on M1/M2 Macs, please use the legacy Keras optimizer instead, located at `tf.keras.optimizers.legacy.Adam`.\n",
      "WARNING:absl:`lr` is deprecated in Keras optimizer, please use `learning_rate` or use the legacy optimizer, e.g.,tf.keras.optimizers.legacy.Adam.\n",
      "WARNING:absl:There is a known slowdown when using v2.11+ Keras optimizers on M1/M2 Macs. Falling back to the legacy Keras optimizer, i.e., `tf.keras.optimizers.legacy.Adam`.\n"
     ]
    },
    {
     "name": "stdout",
     "output_type": "stream",
     "text": [
      "Epoch 1/10\n"
     ]
    },
    {
     "name": "stderr",
     "output_type": "stream",
     "text": [
      "2024-06-09 16:52:39.699215: I tensorflow/core/grappler/optimizers/custom_graph_optimizer_registry.cc:114] Plugin optimizer for device_type GPU is enabled.\n"
     ]
    },
    {
     "name": "stdout",
     "output_type": "stream",
     "text": [
      "1563/1563 [==============================] - ETA: 0s - loss: 2.1534 - accuracy: 0.1666"
     ]
    },
    {
     "name": "stderr",
     "output_type": "stream",
     "text": [
      "2024-06-09 16:54:49.484252: I tensorflow/core/grappler/optimizers/custom_graph_optimizer_registry.cc:114] Plugin optimizer for device_type GPU is enabled.\n"
     ]
    },
    {
     "name": "stdout",
     "output_type": "stream",
     "text": [
      "\n",
      "Epoch 1: val_accuracy improved from -inf to 0.26660, saving model to /Users/ezalta/Documents/GitHub/atlas-machine_learning/unsupervised_learning//hyperparameter_tuning/ckpt_lr_0.00464_beta1_0.922_beta2_0.9924_epochs_10_batch_32.h5\n",
      "1563/1563 [==============================] - 140s 86ms/step - loss: 2.1534 - accuracy: 0.1666 - val_loss: 4.0991 - val_accuracy: 0.2666\n",
      "Epoch 2/10\n",
      "1563/1563 [==============================] - ETA: 0s - loss: 1.7858 - accuracy: 0.3097\n",
      "Epoch 2: val_accuracy improved from 0.26660 to 0.39800, saving model to /Users/ezalta/Documents/GitHub/atlas-machine_learning/unsupervised_learning//hyperparameter_tuning/ckpt_lr_0.00464_beta1_0.922_beta2_0.9924_epochs_10_batch_32.h5\n",
      "1563/1563 [==============================] - 128s 82ms/step - loss: 1.7858 - accuracy: 0.3097 - val_loss: 2.2055 - val_accuracy: 0.3980\n",
      "Epoch 3/10\n",
      "1563/1563 [==============================] - ETA: 0s - loss: 1.4277 - accuracy: 0.4663\n",
      "Epoch 3: val_accuracy improved from 0.39800 to 0.47040, saving model to /Users/ezalta/Documents/GitHub/atlas-machine_learning/unsupervised_learning//hyperparameter_tuning/ckpt_lr_0.00464_beta1_0.922_beta2_0.9924_epochs_10_batch_32.h5\n",
      "1563/1563 [==============================] - 128s 82ms/step - loss: 1.4277 - accuracy: 0.4663 - val_loss: 1.5050 - val_accuracy: 0.4704\n",
      "Epoch 4/10\n",
      "1563/1563 [==============================] - ETA: 0s - loss: 1.1708 - accuracy: 0.5924\n",
      "Epoch 4: val_accuracy improved from 0.47040 to 0.61840, saving model to /Users/ezalta/Documents/GitHub/atlas-machine_learning/unsupervised_learning//hyperparameter_tuning/ckpt_lr_0.00464_beta1_0.922_beta2_0.9924_epochs_10_batch_32.h5\n",
      "1563/1563 [==============================] - 127s 81ms/step - loss: 1.1708 - accuracy: 0.5924 - val_loss: 1.1092 - val_accuracy: 0.6184\n",
      "Epoch 5/10\n",
      "1563/1563 [==============================] - ETA: 0s - loss: 0.9620 - accuracy: 0.6706\n",
      "Epoch 5: val_accuracy improved from 0.61840 to 0.69040, saving model to /Users/ezalta/Documents/GitHub/atlas-machine_learning/unsupervised_learning//hyperparameter_tuning/ckpt_lr_0.00464_beta1_0.922_beta2_0.9924_epochs_10_batch_32.h5\n",
      "1563/1563 [==============================] - 127s 82ms/step - loss: 0.9620 - accuracy: 0.6706 - val_loss: 0.8911 - val_accuracy: 0.6904\n",
      "Epoch 6/10\n",
      "1563/1563 [==============================] - ETA: 0s - loss: 0.8115 - accuracy: 0.7252\n",
      "Epoch 6: val_accuracy did not improve from 0.69040\n",
      "1563/1563 [==============================] - 128s 82ms/step - loss: 0.8115 - accuracy: 0.7252 - val_loss: 0.9224 - val_accuracy: 0.6901\n",
      "Epoch 7/10\n",
      "1563/1563 [==============================] - ETA: 0s - loss: 0.6924 - accuracy: 0.7675\n",
      "Epoch 7: val_accuracy improved from 0.69040 to 0.76810, saving model to /Users/ezalta/Documents/GitHub/atlas-machine_learning/unsupervised_learning//hyperparameter_tuning/ckpt_lr_0.00464_beta1_0.922_beta2_0.9924_epochs_10_batch_32.h5\n",
      "1563/1563 [==============================] - 127s 82ms/step - loss: 0.6924 - accuracy: 0.7675 - val_loss: 0.6927 - val_accuracy: 0.7681\n",
      "Epoch 8/10\n",
      "1563/1563 [==============================] - ETA: 0s - loss: 0.5914 - accuracy: 0.8012\n",
      "Epoch 8: val_accuracy did not improve from 0.76810\n",
      "1563/1563 [==============================] - 128s 82ms/step - loss: 0.5914 - accuracy: 0.8012 - val_loss: 0.8038 - val_accuracy: 0.7347\n",
      "Epoch 9/10\n",
      "1563/1563 [==============================] - ETA: 0s - loss: 0.5160 - accuracy: 0.8286\n",
      "Epoch 9: val_accuracy improved from 0.76810 to 0.81800, saving model to /Users/ezalta/Documents/GitHub/atlas-machine_learning/unsupervised_learning//hyperparameter_tuning/ckpt_lr_0.00464_beta1_0.922_beta2_0.9924_epochs_10_batch_32.h5\n",
      "1563/1563 [==============================] - 129s 82ms/step - loss: 0.5160 - accuracy: 0.8286 - val_loss: 0.5539 - val_accuracy: 0.8180\n",
      "Epoch 10/10\n",
      "1563/1563 [==============================] - ETA: 0s - loss: 0.4625 - accuracy: 0.8487\n",
      "Epoch 10: val_accuracy did not improve from 0.81800\n",
      "1563/1563 [==============================] - 133s 85ms/step - loss: 0.4625 - accuracy: 0.8487 - val_loss: 0.6258 - val_accuracy: 0.7978\n"
     ]
    },
    {
     "name": "stderr",
     "output_type": "stream",
     "text": [
      "WARNING:absl:At this time, the v2.11+ optimizer `tf.keras.optimizers.Adam` runs slowly on M1/M2 Macs, please use the legacy Keras optimizer instead, located at `tf.keras.optimizers.legacy.Adam`.\n",
      "WARNING:absl:`lr` is deprecated in Keras optimizer, please use `learning_rate` or use the legacy optimizer, e.g.,tf.keras.optimizers.legacy.Adam.\n",
      "WARNING:absl:There is a known slowdown when using v2.11+ Keras optimizers on M1/M2 Macs. Falling back to the legacy Keras optimizer, i.e., `tf.keras.optimizers.legacy.Adam`.\n"
     ]
    },
    {
     "name": "stdout",
     "output_type": "stream",
     "text": [
      "Epoch 1/5\n"
     ]
    },
    {
     "name": "stderr",
     "output_type": "stream",
     "text": [
      "2024-06-09 17:14:16.665602: I tensorflow/core/grappler/optimizers/custom_graph_optimizer_registry.cc:114] Plugin optimizer for device_type GPU is enabled.\n"
     ]
    },
    {
     "name": "stdout",
     "output_type": "stream",
     "text": [
      "1563/1563 [==============================] - ETA: 0s - loss: 1.3751 - accuracy: 0.5252"
     ]
    },
    {
     "name": "stderr",
     "output_type": "stream",
     "text": [
      "2024-06-09 17:16:24.683149: I tensorflow/core/grappler/optimizers/custom_graph_optimizer_registry.cc:114] Plugin optimizer for device_type GPU is enabled.\n"
     ]
    },
    {
     "name": "stdout",
     "output_type": "stream",
     "text": [
      "\n",
      "Epoch 1: val_accuracy improved from -inf to 0.60530, saving model to /Users/ezalta/Documents/GitHub/atlas-machine_learning/unsupervised_learning//hyperparameter_tuning/ckpt_lr_0.00781_beta1_0.9115_beta2_0.9956_epochs_5_batch_32.h5\n",
      "1563/1563 [==============================] - 139s 85ms/step - loss: 1.3751 - accuracy: 0.5252 - val_loss: 1.2562 - val_accuracy: 0.6053\n",
      "Epoch 2/5\n",
      "1563/1563 [==============================] - ETA: 0s - loss: 0.7626 - accuracy: 0.7542\n",
      "Epoch 2: val_accuracy improved from 0.60530 to 0.70660, saving model to /Users/ezalta/Documents/GitHub/atlas-machine_learning/unsupervised_learning//hyperparameter_tuning/ckpt_lr_0.00781_beta1_0.9115_beta2_0.9956_epochs_5_batch_32.h5\n",
      "1563/1563 [==============================] - 129s 83ms/step - loss: 0.7626 - accuracy: 0.7542 - val_loss: 1.0134 - val_accuracy: 0.7066\n",
      "Epoch 3/5\n",
      "1563/1563 [==============================] - ETA: 0s - loss: 0.5566 - accuracy: 0.8222\n",
      "Epoch 3: val_accuracy improved from 0.70660 to 0.82850, saving model to /Users/ezalta/Documents/GitHub/atlas-machine_learning/unsupervised_learning//hyperparameter_tuning/ckpt_lr_0.00781_beta1_0.9115_beta2_0.9956_epochs_5_batch_32.h5\n",
      "1563/1563 [==============================] - 128s 82ms/step - loss: 0.5566 - accuracy: 0.8222 - val_loss: 0.5250 - val_accuracy: 0.8285\n",
      "Epoch 4/5\n",
      "1563/1563 [==============================] - ETA: 0s - loss: 0.4351 - accuracy: 0.8627\n",
      "Epoch 4: val_accuracy improved from 0.82850 to 0.84520, saving model to /Users/ezalta/Documents/GitHub/atlas-machine_learning/unsupervised_learning//hyperparameter_tuning/ckpt_lr_0.00781_beta1_0.9115_beta2_0.9956_epochs_5_batch_32.h5\n",
      "1563/1563 [==============================] - 127s 82ms/step - loss: 0.4351 - accuracy: 0.8627 - val_loss: 0.4642 - val_accuracy: 0.8452\n",
      "Epoch 5/5\n",
      "1563/1563 [==============================] - ETA: 0s - loss: 0.3518 - accuracy: 0.8870\n",
      "Epoch 5: val_accuracy improved from 0.84520 to 0.86530, saving model to /Users/ezalta/Documents/GitHub/atlas-machine_learning/unsupervised_learning//hyperparameter_tuning/ckpt_lr_0.00781_beta1_0.9115_beta2_0.9956_epochs_5_batch_32.h5\n",
      "1563/1563 [==============================] - 129s 83ms/step - loss: 0.3518 - accuracy: 0.8870 - val_loss: 0.4080 - val_accuracy: 0.8653\n"
     ]
    },
    {
     "name": "stderr",
     "output_type": "stream",
     "text": [
      "WARNING:absl:At this time, the v2.11+ optimizer `tf.keras.optimizers.Adam` runs slowly on M1/M2 Macs, please use the legacy Keras optimizer instead, located at `tf.keras.optimizers.legacy.Adam`.\n",
      "WARNING:absl:`lr` is deprecated in Keras optimizer, please use `learning_rate` or use the legacy optimizer, e.g.,tf.keras.optimizers.legacy.Adam.\n",
      "WARNING:absl:There is a known slowdown when using v2.11+ Keras optimizers on M1/M2 Macs. Falling back to the legacy Keras optimizer, i.e., `tf.keras.optimizers.legacy.Adam`.\n"
     ]
    },
    {
     "name": "stdout",
     "output_type": "stream",
     "text": [
      "Epoch 1/15\n"
     ]
    },
    {
     "name": "stderr",
     "output_type": "stream",
     "text": [
      "2024-06-09 17:25:11.460222: I tensorflow/core/grappler/optimizers/custom_graph_optimizer_registry.cc:114] Plugin optimizer for device_type GPU is enabled.\n"
     ]
    },
    {
     "name": "stdout",
     "output_type": "stream",
     "text": [
      "391/391 [==============================] - ETA: 0s - loss: 0.9579 - accuracy: 0.6935"
     ]
    },
    {
     "name": "stderr",
     "output_type": "stream",
     "text": [
      "2024-06-09 17:26:37.055825: I tensorflow/core/grappler/optimizers/custom_graph_optimizer_registry.cc:114] Plugin optimizer for device_type GPU is enabled.\n"
     ]
    },
    {
     "name": "stdout",
     "output_type": "stream",
     "text": [
      "\n",
      "Epoch 1: val_accuracy improved from -inf to 0.70430, saving model to /Users/ezalta/Documents/GitHub/atlas-machine_learning/unsupervised_learning//hyperparameter_tuning/ckpt_lr_0.00723_beta1_0.9435_beta2_0.994_epochs_15_batch_128.h5\n",
      "391/391 [==============================] - 96s 230ms/step - loss: 0.9579 - accuracy: 0.6935 - val_loss: 0.9496 - val_accuracy: 0.7043\n",
      "Epoch 2/15\n",
      "391/391 [==============================] - ETA: 0s - loss: 0.5030 - accuracy: 0.8446\n",
      "Epoch 2: val_accuracy improved from 0.70430 to 0.79540, saving model to /Users/ezalta/Documents/GitHub/atlas-machine_learning/unsupervised_learning//hyperparameter_tuning/ckpt_lr_0.00723_beta1_0.9435_beta2_0.994_epochs_15_batch_128.h5\n",
      "391/391 [==============================] - 85s 216ms/step - loss: 0.5030 - accuracy: 0.8446 - val_loss: 0.6435 - val_accuracy: 0.7954\n",
      "Epoch 3/15\n",
      "391/391 [==============================] - ETA: 0s - loss: 0.3766 - accuracy: 0.8830\n",
      "Epoch 3: val_accuracy did not improve from 0.79540\n",
      "391/391 [==============================] - 88s 226ms/step - loss: 0.3766 - accuracy: 0.8830 - val_loss: 0.6739 - val_accuracy: 0.7938\n",
      "Epoch 4/15\n",
      "391/391 [==============================] - ETA: 0s - loss: 0.3033 - accuracy: 0.9054\n",
      "Epoch 4: val_accuracy improved from 0.79540 to 0.83540, saving model to /Users/ezalta/Documents/GitHub/atlas-machine_learning/unsupervised_learning//hyperparameter_tuning/ckpt_lr_0.00723_beta1_0.9435_beta2_0.994_epochs_15_batch_128.h5\n",
      "391/391 [==============================] - 90s 231ms/step - loss: 0.3033 - accuracy: 0.9054 - val_loss: 0.5460 - val_accuracy: 0.8354\n",
      "Epoch 5/15\n",
      "391/391 [==============================] - ETA: 0s - loss: 0.2425 - accuracy: 0.9244\n",
      "Epoch 5: val_accuracy did not improve from 0.83540\n",
      "391/391 [==============================] - 89s 228ms/step - loss: 0.2425 - accuracy: 0.9244 - val_loss: 0.5717 - val_accuracy: 0.8296\n",
      "Epoch 6/15\n",
      "391/391 [==============================] - ETA: 0s - loss: 0.1999 - accuracy: 0.9372\n",
      "Epoch 6: val_accuracy did not improve from 0.83540\n",
      "391/391 [==============================] - 89s 227ms/step - loss: 0.1999 - accuracy: 0.9372 - val_loss: 0.5672 - val_accuracy: 0.8282\n",
      "Epoch 7/15\n",
      "391/391 [==============================] - ETA: 0s - loss: 0.1639 - accuracy: 0.9488\n",
      "Epoch 7: val_accuracy improved from 0.83540 to 0.83980, saving model to /Users/ezalta/Documents/GitHub/atlas-machine_learning/unsupervised_learning//hyperparameter_tuning/ckpt_lr_0.00723_beta1_0.9435_beta2_0.994_epochs_15_batch_128.h5\n",
      "391/391 [==============================] - 89s 227ms/step - loss: 0.1639 - accuracy: 0.9488 - val_loss: 0.5870 - val_accuracy: 0.8398\n",
      "Epoch 8/15\n",
      "391/391 [==============================] - ETA: 0s - loss: 0.1377 - accuracy: 0.9569\n",
      "Epoch 8: val_accuracy improved from 0.83980 to 0.84130, saving model to /Users/ezalta/Documents/GitHub/atlas-machine_learning/unsupervised_learning//hyperparameter_tuning/ckpt_lr_0.00723_beta1_0.9435_beta2_0.994_epochs_15_batch_128.h5\n",
      "391/391 [==============================] - 89s 227ms/step - loss: 0.1377 - accuracy: 0.9569 - val_loss: 0.5654 - val_accuracy: 0.8413\n",
      "Epoch 9/15\n",
      "391/391 [==============================] - ETA: 0s - loss: 0.1200 - accuracy: 0.9630\n",
      "Epoch 9: val_accuracy improved from 0.84130 to 0.88060, saving model to /Users/ezalta/Documents/GitHub/atlas-machine_learning/unsupervised_learning//hyperparameter_tuning/ckpt_lr_0.00723_beta1_0.9435_beta2_0.994_epochs_15_batch_128.h5\n",
      "391/391 [==============================] - 89s 227ms/step - loss: 0.1200 - accuracy: 0.9630 - val_loss: 0.4301 - val_accuracy: 0.8806\n",
      "Epoch 10/15\n",
      "391/391 [==============================] - ETA: 0s - loss: 0.0998 - accuracy: 0.9686\n",
      "Epoch 10: val_accuracy did not improve from 0.88060\n",
      "391/391 [==============================] - 88s 226ms/step - loss: 0.0998 - accuracy: 0.9686 - val_loss: 0.4325 - val_accuracy: 0.8777\n",
      "Epoch 11/15\n",
      "391/391 [==============================] - ETA: 0s - loss: 0.0888 - accuracy: 0.9718\n",
      "Epoch 11: val_accuracy did not improve from 0.88060\n",
      "391/391 [==============================] - 88s 226ms/step - loss: 0.0888 - accuracy: 0.9718 - val_loss: 0.5748 - val_accuracy: 0.8558\n",
      "Epoch 12/15\n",
      "391/391 [==============================] - ETA: 0s - loss: 0.0831 - accuracy: 0.9741\n",
      "Epoch 12: val_accuracy did not improve from 0.88060\n",
      "391/391 [==============================] - 88s 226ms/step - loss: 0.0831 - accuracy: 0.9741 - val_loss: 0.5064 - val_accuracy: 0.8656\n",
      "Epoch 13/15\n",
      "391/391 [==============================] - ETA: 0s - loss: 0.0690 - accuracy: 0.9776\n",
      "Epoch 13: val_accuracy did not improve from 0.88060\n",
      "391/391 [==============================] - 88s 226ms/step - loss: 0.0690 - accuracy: 0.9776 - val_loss: 0.5142 - val_accuracy: 0.8717\n",
      "Epoch 14/15\n",
      "391/391 [==============================] - ETA: 0s - loss: 0.0673 - accuracy: 0.9787\n",
      "Epoch 14: val_accuracy did not improve from 0.88060\n",
      "391/391 [==============================] - 89s 228ms/step - loss: 0.0673 - accuracy: 0.9787 - val_loss: 0.5966 - val_accuracy: 0.8595\n",
      "Epoch 14: early stopping\n"
     ]
    },
    {
     "name": "stderr",
     "output_type": "stream",
     "text": [
      "WARNING:absl:At this time, the v2.11+ optimizer `tf.keras.optimizers.Adam` runs slowly on M1/M2 Macs, please use the legacy Keras optimizer instead, located at `tf.keras.optimizers.legacy.Adam`.\n",
      "WARNING:absl:`lr` is deprecated in Keras optimizer, please use `learning_rate` or use the legacy optimizer, e.g.,tf.keras.optimizers.legacy.Adam.\n",
      "WARNING:absl:There is a known slowdown when using v2.11+ Keras optimizers on M1/M2 Macs. Falling back to the legacy Keras optimizer, i.e., `tf.keras.optimizers.legacy.Adam`.\n"
     ]
    },
    {
     "name": "stdout",
     "output_type": "stream",
     "text": [
      "Epoch 1/15\n"
     ]
    },
    {
     "name": "stderr",
     "output_type": "stream",
     "text": [
      "2024-06-09 17:45:58.570757: I tensorflow/core/grappler/optimizers/custom_graph_optimizer_registry.cc:114] Plugin optimizer for device_type GPU is enabled.\n"
     ]
    },
    {
     "name": "stdout",
     "output_type": "stream",
     "text": [
      "1563/1563 [==============================] - ETA: 0s - loss: 1.2509 - accuracy: 0.5807"
     ]
    },
    {
     "name": "stderr",
     "output_type": "stream",
     "text": [
      "2024-06-09 17:48:10.402760: I tensorflow/core/grappler/optimizers/custom_graph_optimizer_registry.cc:114] Plugin optimizer for device_type GPU is enabled.\n"
     ]
    },
    {
     "name": "stdout",
     "output_type": "stream",
     "text": [
      "\n",
      "Epoch 1: val_accuracy improved from -inf to 0.66760, saving model to /Users/ezalta/Documents/GitHub/atlas-machine_learning/unsupervised_learning//hyperparameter_tuning/ckpt_lr_0.01_beta1_0.85_beta2_0.99_epochs_15_batch_32.h5\n",
      "1563/1563 [==============================] - 144s 88ms/step - loss: 1.2509 - accuracy: 0.5807 - val_loss: 0.9490 - val_accuracy: 0.6676\n",
      "Epoch 2/15\n",
      "1563/1563 [==============================] - ETA: 0s - loss: 0.6910 - accuracy: 0.7791\n",
      "Epoch 2: val_accuracy improved from 0.66760 to 0.74410, saving model to /Users/ezalta/Documents/GitHub/atlas-machine_learning/unsupervised_learning//hyperparameter_tuning/ckpt_lr_0.01_beta1_0.85_beta2_0.99_epochs_15_batch_32.h5\n",
      "1563/1563 [==============================] - 133s 85ms/step - loss: 0.6910 - accuracy: 0.7791 - val_loss: 0.8291 - val_accuracy: 0.7441\n",
      "Epoch 3/15\n",
      "1563/1563 [==============================] - ETA: 0s - loss: 0.5098 - accuracy: 0.8360\n",
      "Epoch 3: val_accuracy improved from 0.74410 to 0.84280, saving model to /Users/ezalta/Documents/GitHub/atlas-machine_learning/unsupervised_learning//hyperparameter_tuning/ckpt_lr_0.01_beta1_0.85_beta2_0.99_epochs_15_batch_32.h5\n",
      "1563/1563 [==============================] - 131s 84ms/step - loss: 0.5098 - accuracy: 0.8360 - val_loss: 0.4819 - val_accuracy: 0.8428\n",
      "Epoch 4/15\n",
      "1563/1563 [==============================] - ETA: 0s - loss: 0.4030 - accuracy: 0.8703\n",
      "Epoch 4: val_accuracy improved from 0.84280 to 0.85150, saving model to /Users/ezalta/Documents/GitHub/atlas-machine_learning/unsupervised_learning//hyperparameter_tuning/ckpt_lr_0.01_beta1_0.85_beta2_0.99_epochs_15_batch_32.h5\n",
      "1563/1563 [==============================] - 131s 84ms/step - loss: 0.4030 - accuracy: 0.8703 - val_loss: 0.4461 - val_accuracy: 0.8515\n",
      "Epoch 5/15\n",
      "1563/1563 [==============================] - ETA: 0s - loss: 0.3177 - accuracy: 0.8983\n",
      "Epoch 5: val_accuracy improved from 0.85150 to 0.85910, saving model to /Users/ezalta/Documents/GitHub/atlas-machine_learning/unsupervised_learning//hyperparameter_tuning/ckpt_lr_0.01_beta1_0.85_beta2_0.99_epochs_15_batch_32.h5\n",
      "1563/1563 [==============================] - 133s 85ms/step - loss: 0.3177 - accuracy: 0.8983 - val_loss: 0.4338 - val_accuracy: 0.8591\n",
      "Epoch 6/15\n",
      "1563/1563 [==============================] - ETA: 0s - loss: 0.2591 - accuracy: 0.9161\n",
      "Epoch 6: val_accuracy did not improve from 0.85910\n",
      "1563/1563 [==============================] - 132s 85ms/step - loss: 0.2591 - accuracy: 0.9161 - val_loss: 0.4333 - val_accuracy: 0.8590\n",
      "Epoch 7/15\n",
      "1563/1563 [==============================] - ETA: 0s - loss: 0.2110 - accuracy: 0.9316\n",
      "Epoch 7: val_accuracy improved from 0.85910 to 0.86160, saving model to /Users/ezalta/Documents/GitHub/atlas-machine_learning/unsupervised_learning//hyperparameter_tuning/ckpt_lr_0.01_beta1_0.85_beta2_0.99_epochs_15_batch_32.h5\n",
      "1563/1563 [==============================] - 131s 84ms/step - loss: 0.2110 - accuracy: 0.9316 - val_loss: 0.4178 - val_accuracy: 0.8616\n",
      "Epoch 8/15\n",
      "1563/1563 [==============================] - ETA: 0s - loss: 0.1674 - accuracy: 0.9457\n",
      "Epoch 8: val_accuracy improved from 0.86160 to 0.86380, saving model to /Users/ezalta/Documents/GitHub/atlas-machine_learning/unsupervised_learning//hyperparameter_tuning/ckpt_lr_0.01_beta1_0.85_beta2_0.99_epochs_15_batch_32.h5\n",
      "1563/1563 [==============================] - 131s 84ms/step - loss: 0.1674 - accuracy: 0.9457 - val_loss: 0.4382 - val_accuracy: 0.8638\n",
      "Epoch 9/15\n",
      "1563/1563 [==============================] - ETA: 0s - loss: 0.1508 - accuracy: 0.9520\n",
      "Epoch 9: val_accuracy improved from 0.86380 to 0.89150, saving model to /Users/ezalta/Documents/GitHub/atlas-machine_learning/unsupervised_learning//hyperparameter_tuning/ckpt_lr_0.01_beta1_0.85_beta2_0.99_epochs_15_batch_32.h5\n",
      "1563/1563 [==============================] - 131s 84ms/step - loss: 0.1508 - accuracy: 0.9520 - val_loss: 0.3501 - val_accuracy: 0.8915\n",
      "Epoch 10/15\n",
      "1563/1563 [==============================] - ETA: 0s - loss: 0.1252 - accuracy: 0.9599\n",
      "Epoch 10: val_accuracy did not improve from 0.89150\n",
      "1563/1563 [==============================] - 130s 83ms/step - loss: 0.1252 - accuracy: 0.9599 - val_loss: 0.3976 - val_accuracy: 0.8800\n",
      "Epoch 11/15\n",
      "1563/1563 [==============================] - ETA: 0s - loss: 0.1096 - accuracy: 0.9652\n",
      "Epoch 11: val_accuracy did not improve from 0.89150\n",
      "1563/1563 [==============================] - 129s 83ms/step - loss: 0.1096 - accuracy: 0.9652 - val_loss: 0.5310 - val_accuracy: 0.8498\n",
      "Epoch 12/15\n",
      "1563/1563 [==============================] - ETA: 0s - loss: 0.0938 - accuracy: 0.9700\n",
      "Epoch 12: val_accuracy did not improve from 0.89150\n",
      "1563/1563 [==============================] - 128s 82ms/step - loss: 0.0938 - accuracy: 0.9700 - val_loss: 0.4050 - val_accuracy: 0.8899\n",
      "Epoch 13/15\n",
      "1563/1563 [==============================] - ETA: 0s - loss: 0.0862 - accuracy: 0.9727\n",
      "Epoch 13: val_accuracy did not improve from 0.89150\n",
      "1563/1563 [==============================] - 128s 82ms/step - loss: 0.0862 - accuracy: 0.9727 - val_loss: 0.3951 - val_accuracy: 0.8849\n",
      "Epoch 14/15\n",
      "1563/1563 [==============================] - ETA: 0s - loss: 0.0808 - accuracy: 0.9749\n",
      "Epoch 14: val_accuracy did not improve from 0.89150\n",
      "1563/1563 [==============================] - 129s 82ms/step - loss: 0.0808 - accuracy: 0.9749 - val_loss: 0.4588 - val_accuracy: 0.8793\n",
      "Epoch 14: early stopping\n"
     ]
    },
    {
     "name": "stderr",
     "output_type": "stream",
     "text": [
      "WARNING:absl:At this time, the v2.11+ optimizer `tf.keras.optimizers.Adam` runs slowly on M1/M2 Macs, please use the legacy Keras optimizer instead, located at `tf.keras.optimizers.legacy.Adam`.\n",
      "WARNING:absl:`lr` is deprecated in Keras optimizer, please use `learning_rate` or use the legacy optimizer, e.g.,tf.keras.optimizers.legacy.Adam.\n",
      "WARNING:absl:There is a known slowdown when using v2.11+ Keras optimizers on M1/M2 Macs. Falling back to the legacy Keras optimizer, i.e., `tf.keras.optimizers.legacy.Adam`.\n"
     ]
    },
    {
     "name": "stdout",
     "output_type": "stream",
     "text": [
      "Epoch 1/10\n"
     ]
    },
    {
     "name": "stderr",
     "output_type": "stream",
     "text": [
      "2024-06-09 18:16:41.902569: I tensorflow/core/grappler/optimizers/custom_graph_optimizer_registry.cc:114] Plugin optimizer for device_type GPU is enabled.\n"
     ]
    },
    {
     "name": "stdout",
     "output_type": "stream",
     "text": [
      "782/782 [==============================] - ETA: 0s - loss: 0.9826 - accuracy: 0.6953"
     ]
    },
    {
     "name": "stderr",
     "output_type": "stream",
     "text": [
      "2024-06-09 18:18:18.608478: I tensorflow/core/grappler/optimizers/custom_graph_optimizer_registry.cc:114] Plugin optimizer for device_type GPU is enabled.\n"
     ]
    },
    {
     "name": "stdout",
     "output_type": "stream",
     "text": [
      "\n",
      "Epoch 1: val_accuracy improved from -inf to 0.61360, saving model to /Users/ezalta/Documents/GitHub/atlas-machine_learning/unsupervised_learning//hyperparameter_tuning/ckpt_lr_0.00657_beta1_0.8759_beta2_0.9911_epochs_10_batch_64.h5\n",
      "782/782 [==============================] - 106s 125ms/step - loss: 0.9826 - accuracy: 0.6953 - val_loss: 1.5056 - val_accuracy: 0.6136\n",
      "Epoch 2/10\n",
      "782/782 [==============================] - ETA: 0s - loss: 0.5712 - accuracy: 0.8209\n",
      "Epoch 2: val_accuracy improved from 0.61360 to 0.77820, saving model to /Users/ezalta/Documents/GitHub/atlas-machine_learning/unsupervised_learning//hyperparameter_tuning/ckpt_lr_0.00657_beta1_0.8759_beta2_0.9911_epochs_10_batch_64.h5\n",
      "782/782 [==============================] - 92s 117ms/step - loss: 0.5712 - accuracy: 0.8209 - val_loss: 0.6883 - val_accuracy: 0.7782\n",
      "Epoch 3/10\n",
      "782/782 [==============================] - ETA: 0s - loss: 0.4164 - accuracy: 0.8687\n",
      "Epoch 3: val_accuracy improved from 0.77820 to 0.82470, saving model to /Users/ezalta/Documents/GitHub/atlas-machine_learning/unsupervised_learning//hyperparameter_tuning/ckpt_lr_0.00657_beta1_0.8759_beta2_0.9911_epochs_10_batch_64.h5\n",
      "782/782 [==============================] - 93s 119ms/step - loss: 0.4164 - accuracy: 0.8687 - val_loss: 0.5593 - val_accuracy: 0.8247\n",
      "Epoch 4/10\n",
      "782/782 [==============================] - ETA: 0s - loss: 0.3230 - accuracy: 0.8974\n",
      "Epoch 4: val_accuracy did not improve from 0.82470\n",
      "782/782 [==============================] - 95s 122ms/step - loss: 0.3230 - accuracy: 0.8974 - val_loss: 0.6254 - val_accuracy: 0.8056\n",
      "Epoch 5/10\n",
      "782/782 [==============================] - ETA: 0s - loss: 0.2539 - accuracy: 0.9192\n",
      "Epoch 5: val_accuracy improved from 0.82470 to 0.82590, saving model to /Users/ezalta/Documents/GitHub/atlas-machine_learning/unsupervised_learning//hyperparameter_tuning/ckpt_lr_0.00657_beta1_0.8759_beta2_0.9911_epochs_10_batch_64.h5\n",
      "782/782 [==============================] - 96s 122ms/step - loss: 0.2539 - accuracy: 0.9192 - val_loss: 0.5710 - val_accuracy: 0.8259\n",
      "Epoch 6/10\n",
      "782/782 [==============================] - ETA: 0s - loss: 0.2034 - accuracy: 0.9346\n",
      "Epoch 6: val_accuracy improved from 0.82590 to 0.83770, saving model to /Users/ezalta/Documents/GitHub/atlas-machine_learning/unsupervised_learning//hyperparameter_tuning/ckpt_lr_0.00657_beta1_0.8759_beta2_0.9911_epochs_10_batch_64.h5\n",
      "782/782 [==============================] - 95s 121ms/step - loss: 0.2034 - accuracy: 0.9346 - val_loss: 0.5312 - val_accuracy: 0.8377\n",
      "Epoch 7/10\n",
      "782/782 [==============================] - ETA: 0s - loss: 0.1659 - accuracy: 0.9464\n",
      "Epoch 7: val_accuracy improved from 0.83770 to 0.88960, saving model to /Users/ezalta/Documents/GitHub/atlas-machine_learning/unsupervised_learning//hyperparameter_tuning/ckpt_lr_0.00657_beta1_0.8759_beta2_0.9911_epochs_10_batch_64.h5\n",
      "782/782 [==============================] - 95s 121ms/step - loss: 0.1659 - accuracy: 0.9464 - val_loss: 0.3518 - val_accuracy: 0.8896\n",
      "Epoch 8/10\n",
      "782/782 [==============================] - ETA: 0s - loss: 0.1373 - accuracy: 0.9573\n",
      "Epoch 8: val_accuracy did not improve from 0.88960\n",
      "782/782 [==============================] - 94s 121ms/step - loss: 0.1373 - accuracy: 0.9573 - val_loss: 0.4227 - val_accuracy: 0.8738\n",
      "Epoch 9/10\n",
      "782/782 [==============================] - ETA: 0s - loss: 0.1199 - accuracy: 0.9613\n",
      "Epoch 9: val_accuracy improved from 0.88960 to 0.89040, saving model to /Users/ezalta/Documents/GitHub/atlas-machine_learning/unsupervised_learning//hyperparameter_tuning/ckpt_lr_0.00657_beta1_0.8759_beta2_0.9911_epochs_10_batch_64.h5\n",
      "782/782 [==============================] - 95s 121ms/step - loss: 0.1199 - accuracy: 0.9613 - val_loss: 0.3663 - val_accuracy: 0.8904\n",
      "Epoch 10/10\n",
      "782/782 [==============================] - ETA: 0s - loss: 0.1011 - accuracy: 0.9677\n",
      "Epoch 10: val_accuracy improved from 0.89040 to 0.89140, saving model to /Users/ezalta/Documents/GitHub/atlas-machine_learning/unsupervised_learning//hyperparameter_tuning/ckpt_lr_0.00657_beta1_0.8759_beta2_0.9911_epochs_10_batch_64.h5\n",
      "782/782 [==============================] - 95s 122ms/step - loss: 0.1011 - accuracy: 0.9677 - val_loss: 0.3758 - val_accuracy: 0.8914\n"
     ]
    },
    {
     "name": "stderr",
     "output_type": "stream",
     "text": [
      "WARNING:absl:At this time, the v2.11+ optimizer `tf.keras.optimizers.Adam` runs slowly on M1/M2 Macs, please use the legacy Keras optimizer instead, located at `tf.keras.optimizers.legacy.Adam`.\n",
      "WARNING:absl:`lr` is deprecated in Keras optimizer, please use `learning_rate` or use the legacy optimizer, e.g.,tf.keras.optimizers.legacy.Adam.\n",
      "WARNING:absl:There is a known slowdown when using v2.11+ Keras optimizers on M1/M2 Macs. Falling back to the legacy Keras optimizer, i.e., `tf.keras.optimizers.legacy.Adam`.\n"
     ]
    },
    {
     "name": "stdout",
     "output_type": "stream",
     "text": [
      "Epoch 1/5\n"
     ]
    },
    {
     "name": "stderr",
     "output_type": "stream",
     "text": [
      "2024-06-09 18:32:39.409658: I tensorflow/core/grappler/optimizers/custom_graph_optimizer_registry.cc:114] Plugin optimizer for device_type GPU is enabled.\n"
     ]
    },
    {
     "name": "stdout",
     "output_type": "stream",
     "text": [
      "782/782 [==============================] - ETA: 0s - loss: 1.5481 - accuracy: 0.4279"
     ]
    },
    {
     "name": "stderr",
     "output_type": "stream",
     "text": [
      "2024-06-09 18:34:19.285341: I tensorflow/core/grappler/optimizers/custom_graph_optimizer_registry.cc:114] Plugin optimizer for device_type GPU is enabled.\n"
     ]
    },
    {
     "name": "stdout",
     "output_type": "stream",
     "text": [
      "\n",
      "Epoch 1: val_accuracy improved from -inf to 0.52180, saving model to /Users/ezalta/Documents/GitHub/atlas-machine_learning/unsupervised_learning//hyperparameter_tuning/ckpt_lr_0.00667_beta1_0.8783_beta2_0.9909_epochs_5_batch_64.h5\n",
      "782/782 [==============================] - 110s 130ms/step - loss: 1.5481 - accuracy: 0.4279 - val_loss: 1.6199 - val_accuracy: 0.5218\n",
      "Epoch 2/5\n",
      "782/782 [==============================] - ETA: 0s - loss: 0.7692 - accuracy: 0.7527\n",
      "Epoch 2: val_accuracy improved from 0.52180 to 0.77440, saving model to /Users/ezalta/Documents/GitHub/atlas-machine_learning/unsupervised_learning//hyperparameter_tuning/ckpt_lr_0.00667_beta1_0.8783_beta2_0.9909_epochs_5_batch_64.h5\n",
      "782/782 [==============================] - 92s 118ms/step - loss: 0.7692 - accuracy: 0.7527 - val_loss: 0.6965 - val_accuracy: 0.7744\n",
      "Epoch 3/5\n",
      "782/782 [==============================] - ETA: 0s - loss: 0.5277 - accuracy: 0.8327\n",
      "Epoch 3: val_accuracy did not improve from 0.77440\n",
      "782/782 [==============================] - 93s 119ms/step - loss: 0.5277 - accuracy: 0.8327 - val_loss: 0.7949 - val_accuracy: 0.7633\n",
      "Epoch 4/5\n",
      "782/782 [==============================] - ETA: 0s - loss: 0.4074 - accuracy: 0.8712\n",
      "Epoch 4: val_accuracy improved from 0.77440 to 0.85650, saving model to /Users/ezalta/Documents/GitHub/atlas-machine_learning/unsupervised_learning//hyperparameter_tuning/ckpt_lr_0.00667_beta1_0.8783_beta2_0.9909_epochs_5_batch_64.h5\n",
      "782/782 [==============================] - 95s 122ms/step - loss: 0.4074 - accuracy: 0.8712 - val_loss: 0.4439 - val_accuracy: 0.8565\n",
      "Epoch 5/5\n",
      "782/782 [==============================] - ETA: 0s - loss: 0.3174 - accuracy: 0.8992\n",
      "Epoch 5: val_accuracy did not improve from 0.85650\n",
      "782/782 [==============================] - 95s 121ms/step - loss: 0.3174 - accuracy: 0.8992 - val_loss: 1.1027 - val_accuracy: 0.7062\n"
     ]
    },
    {
     "name": "stderr",
     "output_type": "stream",
     "text": [
      "WARNING:absl:At this time, the v2.11+ optimizer `tf.keras.optimizers.Adam` runs slowly on M1/M2 Macs, please use the legacy Keras optimizer instead, located at `tf.keras.optimizers.legacy.Adam`.\n",
      "WARNING:absl:`lr` is deprecated in Keras optimizer, please use `learning_rate` or use the legacy optimizer, e.g.,tf.keras.optimizers.legacy.Adam.\n",
      "WARNING:absl:There is a known slowdown when using v2.11+ Keras optimizers on M1/M2 Macs. Falling back to the legacy Keras optimizer, i.e., `tf.keras.optimizers.legacy.Adam`.\n"
     ]
    },
    {
     "name": "stdout",
     "output_type": "stream",
     "text": [
      "Epoch 1/15\n"
     ]
    },
    {
     "name": "stderr",
     "output_type": "stream",
     "text": [
      "2024-06-09 18:40:45.742493: I tensorflow/core/grappler/optimizers/custom_graph_optimizer_registry.cc:114] Plugin optimizer for device_type GPU is enabled.\n"
     ]
    },
    {
     "name": "stdout",
     "output_type": "stream",
     "text": [
      "782/782 [==============================] - ETA: 0s - loss: 0.9895 - accuracy: 0.6899"
     ]
    },
    {
     "name": "stderr",
     "output_type": "stream",
     "text": [
      "2024-06-09 18:42:25.989970: I tensorflow/core/grappler/optimizers/custom_graph_optimizer_registry.cc:114] Plugin optimizer for device_type GPU is enabled.\n"
     ]
    },
    {
     "name": "stdout",
     "output_type": "stream",
     "text": [
      "\n",
      "Epoch 1: val_accuracy improved from -inf to 0.60460, saving model to /Users/ezalta/Documents/GitHub/atlas-machine_learning/unsupervised_learning//hyperparameter_tuning/ckpt_lr_0.00663_beta1_0.8746_beta2_0.9937_epochs_15_batch_64.h5\n",
      "782/782 [==============================] - 111s 133ms/step - loss: 0.9895 - accuracy: 0.6899 - val_loss: 1.5384 - val_accuracy: 0.6046\n",
      "Epoch 2/15\n",
      "782/782 [==============================] - ETA: 0s - loss: 0.5747 - accuracy: 0.8203\n",
      "Epoch 2: val_accuracy improved from 0.60460 to 0.69870, saving model to /Users/ezalta/Documents/GitHub/atlas-machine_learning/unsupervised_learning//hyperparameter_tuning/ckpt_lr_0.00663_beta1_0.8746_beta2_0.9937_epochs_15_batch_64.h5\n",
      "782/782 [==============================] - 92s 118ms/step - loss: 0.5747 - accuracy: 0.8203 - val_loss: 0.9808 - val_accuracy: 0.6987\n",
      "Epoch 3/15\n",
      "782/782 [==============================] - ETA: 0s - loss: 0.4293 - accuracy: 0.8652\n",
      "Epoch 3: val_accuracy improved from 0.69870 to 0.83360, saving model to /Users/ezalta/Documents/GitHub/atlas-machine_learning/unsupervised_learning//hyperparameter_tuning/ckpt_lr_0.00663_beta1_0.8746_beta2_0.9937_epochs_15_batch_64.h5\n",
      "782/782 [==============================] - 94s 120ms/step - loss: 0.4293 - accuracy: 0.8652 - val_loss: 0.5038 - val_accuracy: 0.8336\n",
      "Epoch 4/15\n",
      "782/782 [==============================] - ETA: 0s - loss: 0.3366 - accuracy: 0.8940\n",
      "Epoch 4: val_accuracy improved from 0.83360 to 0.84670, saving model to /Users/ezalta/Documents/GitHub/atlas-machine_learning/unsupervised_learning//hyperparameter_tuning/ckpt_lr_0.00663_beta1_0.8746_beta2_0.9937_epochs_15_batch_64.h5\n",
      "782/782 [==============================] - 95s 121ms/step - loss: 0.3366 - accuracy: 0.8940 - val_loss: 0.4820 - val_accuracy: 0.8467\n",
      "Epoch 5/15\n",
      "782/782 [==============================] - ETA: 0s - loss: 0.2671 - accuracy: 0.9156\n",
      "Epoch 5: val_accuracy improved from 0.84670 to 0.86040, saving model to /Users/ezalta/Documents/GitHub/atlas-machine_learning/unsupervised_learning//hyperparameter_tuning/ckpt_lr_0.00663_beta1_0.8746_beta2_0.9937_epochs_15_batch_64.h5\n",
      "782/782 [==============================] - 95s 121ms/step - loss: 0.2671 - accuracy: 0.9156 - val_loss: 0.4424 - val_accuracy: 0.8604\n",
      "Epoch 6/15\n",
      "782/782 [==============================] - ETA: 0s - loss: 0.2126 - accuracy: 0.9310\n",
      "Epoch 6: val_accuracy did not improve from 0.86040\n",
      "782/782 [==============================] - 94s 120ms/step - loss: 0.2126 - accuracy: 0.9310 - val_loss: 0.5760 - val_accuracy: 0.8195\n",
      "Epoch 7/15\n",
      "782/782 [==============================] - ETA: 0s - loss: 0.1765 - accuracy: 0.9432\n",
      "Epoch 7: val_accuracy improved from 0.86040 to 0.86910, saving model to /Users/ezalta/Documents/GitHub/atlas-machine_learning/unsupervised_learning//hyperparameter_tuning/ckpt_lr_0.00663_beta1_0.8746_beta2_0.9937_epochs_15_batch_64.h5\n",
      "782/782 [==============================] - 94s 121ms/step - loss: 0.1765 - accuracy: 0.9432 - val_loss: 0.4510 - val_accuracy: 0.8691\n",
      "Epoch 8/15\n",
      "782/782 [==============================] - ETA: 0s - loss: 0.1463 - accuracy: 0.9534\n",
      "Epoch 8: val_accuracy did not improve from 0.86910\n",
      "782/782 [==============================] - 94s 120ms/step - loss: 0.1463 - accuracy: 0.9534 - val_loss: 0.5519 - val_accuracy: 0.8404\n",
      "Epoch 9/15\n",
      "782/782 [==============================] - ETA: 0s - loss: 0.1208 - accuracy: 0.9617\n",
      "Epoch 9: val_accuracy improved from 0.86910 to 0.88820, saving model to /Users/ezalta/Documents/GitHub/atlas-machine_learning/unsupervised_learning//hyperparameter_tuning/ckpt_lr_0.00663_beta1_0.8746_beta2_0.9937_epochs_15_batch_64.h5\n",
      "782/782 [==============================] - 94s 121ms/step - loss: 0.1208 - accuracy: 0.9617 - val_loss: 0.3802 - val_accuracy: 0.8882\n",
      "Epoch 10/15\n",
      "782/782 [==============================] - ETA: 0s - loss: 0.1054 - accuracy: 0.9664\n",
      "Epoch 10: val_accuracy did not improve from 0.88820\n",
      "782/782 [==============================] - 94s 120ms/step - loss: 0.1054 - accuracy: 0.9664 - val_loss: 0.3874 - val_accuracy: 0.8862\n",
      "Epoch 11/15\n",
      "782/782 [==============================] - ETA: 0s - loss: 0.0976 - accuracy: 0.9685\n",
      "Epoch 11: val_accuracy improved from 0.88820 to 0.89440, saving model to /Users/ezalta/Documents/GitHub/atlas-machine_learning/unsupervised_learning//hyperparameter_tuning/ckpt_lr_0.00663_beta1_0.8746_beta2_0.9937_epochs_15_batch_64.h5\n",
      "782/782 [==============================] - 94s 120ms/step - loss: 0.0976 - accuracy: 0.9685 - val_loss: 0.3835 - val_accuracy: 0.8944\n",
      "Epoch 12/15\n",
      "782/782 [==============================] - ETA: 0s - loss: 0.0841 - accuracy: 0.9730\n",
      "Epoch 12: val_accuracy did not improve from 0.89440\n",
      "782/782 [==============================] - 94s 120ms/step - loss: 0.0841 - accuracy: 0.9730 - val_loss: 0.4521 - val_accuracy: 0.8774\n",
      "Epoch 13/15\n",
      "782/782 [==============================] - ETA: 0s - loss: 0.0714 - accuracy: 0.9769\n",
      "Epoch 13: val_accuracy improved from 0.89440 to 0.89920, saving model to /Users/ezalta/Documents/GitHub/atlas-machine_learning/unsupervised_learning//hyperparameter_tuning/ckpt_lr_0.00663_beta1_0.8746_beta2_0.9937_epochs_15_batch_64.h5\n",
      "782/782 [==============================] - 94s 121ms/step - loss: 0.0714 - accuracy: 0.9769 - val_loss: 0.3605 - val_accuracy: 0.8992\n",
      "Epoch 14/15\n",
      "782/782 [==============================] - ETA: 0s - loss: 0.0694 - accuracy: 0.9776\n",
      "Epoch 14: val_accuracy did not improve from 0.89920\n",
      "782/782 [==============================] - 94s 120ms/step - loss: 0.0694 - accuracy: 0.9776 - val_loss: 0.4104 - val_accuracy: 0.8899\n",
      "Epoch 15/15\n",
      "782/782 [==============================] - ETA: 0s - loss: 0.0656 - accuracy: 0.9792\n",
      "Epoch 15: val_accuracy did not improve from 0.89920\n",
      "782/782 [==============================] - 94s 120ms/step - loss: 0.0656 - accuracy: 0.9792 - val_loss: 0.3860 - val_accuracy: 0.8962\n"
     ]
    },
    {
     "name": "stderr",
     "output_type": "stream",
     "text": [
      "WARNING:absl:At this time, the v2.11+ optimizer `tf.keras.optimizers.Adam` runs slowly on M1/M2 Macs, please use the legacy Keras optimizer instead, located at `tf.keras.optimizers.legacy.Adam`.\n",
      "WARNING:absl:`lr` is deprecated in Keras optimizer, please use `learning_rate` or use the legacy optimizer, e.g.,tf.keras.optimizers.legacy.Adam.\n",
      "WARNING:absl:There is a known slowdown when using v2.11+ Keras optimizers on M1/M2 Macs. Falling back to the legacy Keras optimizer, i.e., `tf.keras.optimizers.legacy.Adam`.\n"
     ]
    },
    {
     "name": "stdout",
     "output_type": "stream",
     "text": [
      "Epoch 1/15\n"
     ]
    },
    {
     "name": "stderr",
     "output_type": "stream",
     "text": [
      "2024-06-09 19:04:34.148256: I tensorflow/core/grappler/optimizers/custom_graph_optimizer_registry.cc:114] Plugin optimizer for device_type GPU is enabled.\n"
     ]
    },
    {
     "name": "stdout",
     "output_type": "stream",
     "text": [
      "782/782 [==============================] - ETA: 0s - loss: 1.6043 - accuracy: 0.4190"
     ]
    },
    {
     "name": "stderr",
     "output_type": "stream",
     "text": [
      "2024-06-09 19:06:12.760875: I tensorflow/core/grappler/optimizers/custom_graph_optimizer_registry.cc:114] Plugin optimizer for device_type GPU is enabled.\n"
     ]
    },
    {
     "name": "stdout",
     "output_type": "stream",
     "text": [
      "\n",
      "Epoch 1: val_accuracy improved from -inf to 0.55660, saving model to /Users/ezalta/Documents/GitHub/atlas-machine_learning/unsupervised_learning//hyperparameter_tuning/ckpt_lr_0.0_beta1_0.95_beta2_0.999_epochs_15_batch_64.h5\n",
      "782/782 [==============================] - 111s 133ms/step - loss: 1.6043 - accuracy: 0.4190 - val_loss: 1.5463 - val_accuracy: 0.5566\n",
      "Epoch 2/15\n",
      "782/782 [==============================] - ETA: 0s - loss: 0.7501 - accuracy: 0.7627\n",
      "Epoch 2: val_accuracy improved from 0.55660 to 0.71340, saving model to /Users/ezalta/Documents/GitHub/atlas-machine_learning/unsupervised_learning//hyperparameter_tuning/ckpt_lr_0.0_beta1_0.95_beta2_0.999_epochs_15_batch_64.h5\n",
      "782/782 [==============================] - 92s 117ms/step - loss: 0.7501 - accuracy: 0.7627 - val_loss: 0.9024 - val_accuracy: 0.7134\n",
      "Epoch 3/15\n",
      "782/782 [==============================] - ETA: 0s - loss: 0.5273 - accuracy: 0.8348\n",
      "Epoch 3: val_accuracy improved from 0.71340 to 0.80640, saving model to /Users/ezalta/Documents/GitHub/atlas-machine_learning/unsupervised_learning//hyperparameter_tuning/ckpt_lr_0.0_beta1_0.95_beta2_0.999_epochs_15_batch_64.h5\n",
      "782/782 [==============================] - 93s 119ms/step - loss: 0.5273 - accuracy: 0.8348 - val_loss: 0.6138 - val_accuracy: 0.8064\n",
      "Epoch 4/15\n",
      "782/782 [==============================] - ETA: 0s - loss: 0.4195 - accuracy: 0.8697\n",
      "Epoch 4: val_accuracy did not improve from 0.80640\n",
      "782/782 [==============================] - 94s 120ms/step - loss: 0.4195 - accuracy: 0.8697 - val_loss: 1.0150 - val_accuracy: 0.6884\n",
      "Epoch 5/15\n",
      "782/782 [==============================] - ETA: 0s - loss: 0.3373 - accuracy: 0.8942\n",
      "Epoch 5: val_accuracy improved from 0.80640 to 0.86870, saving model to /Users/ezalta/Documents/GitHub/atlas-machine_learning/unsupervised_learning//hyperparameter_tuning/ckpt_lr_0.0_beta1_0.95_beta2_0.999_epochs_15_batch_64.h5\n",
      "782/782 [==============================] - 95s 121ms/step - loss: 0.3373 - accuracy: 0.8942 - val_loss: 0.4177 - val_accuracy: 0.8687\n",
      "Epoch 6/15\n",
      "782/782 [==============================] - ETA: 0s - loss: 0.2846 - accuracy: 0.9095\n",
      "Epoch 6: val_accuracy did not improve from 0.86870\n",
      "782/782 [==============================] - 94s 120ms/step - loss: 0.2846 - accuracy: 0.9095 - val_loss: 0.8293 - val_accuracy: 0.7647\n",
      "Epoch 7/15\n",
      "782/782 [==============================] - ETA: 0s - loss: 0.2426 - accuracy: 0.9223\n",
      "Epoch 7: val_accuracy did not improve from 0.86870\n",
      "782/782 [==============================] - 93s 119ms/step - loss: 0.2426 - accuracy: 0.9223 - val_loss: 0.4210 - val_accuracy: 0.8673\n",
      "Epoch 8/15\n",
      "782/782 [==============================] - ETA: 0s - loss: 0.2016 - accuracy: 0.9378\n",
      "Epoch 8: val_accuracy improved from 0.86870 to 0.87540, saving model to /Users/ezalta/Documents/GitHub/atlas-machine_learning/unsupervised_learning//hyperparameter_tuning/ckpt_lr_0.0_beta1_0.95_beta2_0.999_epochs_15_batch_64.h5\n",
      "782/782 [==============================] - 94s 120ms/step - loss: 0.2016 - accuracy: 0.9378 - val_loss: 0.4081 - val_accuracy: 0.8754\n",
      "Epoch 9/15\n",
      "782/782 [==============================] - ETA: 0s - loss: 0.1676 - accuracy: 0.9471\n",
      "Epoch 9: val_accuracy did not improve from 0.87540\n",
      "782/782 [==============================] - 94s 120ms/step - loss: 0.1676 - accuracy: 0.9471 - val_loss: 0.4339 - val_accuracy: 0.8725\n",
      "Epoch 10/15\n",
      "782/782 [==============================] - ETA: 0s - loss: 0.1421 - accuracy: 0.9554\n",
      "Epoch 10: val_accuracy did not improve from 0.87540\n",
      "782/782 [==============================] - 94s 120ms/step - loss: 0.1421 - accuracy: 0.9554 - val_loss: 0.4510 - val_accuracy: 0.8733\n",
      "Epoch 11/15\n",
      "782/782 [==============================] - ETA: 0s - loss: 0.1308 - accuracy: 0.9589\n",
      "Epoch 11: val_accuracy did not improve from 0.87540\n",
      "782/782 [==============================] - 94s 120ms/step - loss: 0.1308 - accuracy: 0.9589 - val_loss: 0.5367 - val_accuracy: 0.8560\n",
      "Epoch 12/15\n",
      "782/782 [==============================] - ETA: 0s - loss: 0.1159 - accuracy: 0.9635\n",
      "Epoch 12: val_accuracy improved from 0.87540 to 0.87570, saving model to /Users/ezalta/Documents/GitHub/atlas-machine_learning/unsupervised_learning//hyperparameter_tuning/ckpt_lr_0.0_beta1_0.95_beta2_0.999_epochs_15_batch_64.h5\n",
      "782/782 [==============================] - 95s 121ms/step - loss: 0.1159 - accuracy: 0.9635 - val_loss: 0.4338 - val_accuracy: 0.8757\n",
      "Epoch 13/15\n",
      "782/782 [==============================] - ETA: 0s - loss: 0.0946 - accuracy: 0.9701\n",
      "Epoch 13: val_accuracy did not improve from 0.87570\n",
      "782/782 [==============================] - 94s 120ms/step - loss: 0.0946 - accuracy: 0.9701 - val_loss: 0.4737 - val_accuracy: 0.8713\n",
      "Epoch 14/15\n",
      "782/782 [==============================] - ETA: 0s - loss: 0.0867 - accuracy: 0.9739\n",
      "Epoch 14: val_accuracy did not improve from 0.87570\n",
      "782/782 [==============================] - 94s 121ms/step - loss: 0.0867 - accuracy: 0.9739 - val_loss: 0.4559 - val_accuracy: 0.8748\n",
      "Epoch 15/15\n",
      "782/782 [==============================] - ETA: 0s - loss: 0.0798 - accuracy: 0.9749\n",
      "Epoch 15: val_accuracy did not improve from 0.87570\n",
      "782/782 [==============================] - 94s 121ms/step - loss: 0.0798 - accuracy: 0.9749 - val_loss: 0.5112 - val_accuracy: 0.8583\n"
     ]
    },
    {
     "name": "stderr",
     "output_type": "stream",
     "text": [
      "WARNING:absl:At this time, the v2.11+ optimizer `tf.keras.optimizers.Adam` runs slowly on M1/M2 Macs, please use the legacy Keras optimizer instead, located at `tf.keras.optimizers.legacy.Adam`.\n",
      "WARNING:absl:`lr` is deprecated in Keras optimizer, please use `learning_rate` or use the legacy optimizer, e.g.,tf.keras.optimizers.legacy.Adam.\n",
      "WARNING:absl:There is a known slowdown when using v2.11+ Keras optimizers on M1/M2 Macs. Falling back to the legacy Keras optimizer, i.e., `tf.keras.optimizers.legacy.Adam`.\n"
     ]
    },
    {
     "name": "stdout",
     "output_type": "stream",
     "text": [
      "Epoch 1/10\n"
     ]
    },
    {
     "name": "stderr",
     "output_type": "stream",
     "text": [
      "2024-06-09 19:28:19.430228: I tensorflow/core/grappler/optimizers/custom_graph_optimizer_registry.cc:114] Plugin optimizer for device_type GPU is enabled.\n"
     ]
    },
    {
     "name": "stdout",
     "output_type": "stream",
     "text": [
      "782/782 [==============================] - ETA: 0s - loss: 1.0085 - accuracy: 0.6810"
     ]
    },
    {
     "name": "stderr",
     "output_type": "stream",
     "text": [
      "2024-06-09 19:29:56.797455: I tensorflow/core/grappler/optimizers/custom_graph_optimizer_registry.cc:114] Plugin optimizer for device_type GPU is enabled.\n"
     ]
    },
    {
     "name": "stdout",
     "output_type": "stream",
     "text": [
      "\n",
      "Epoch 1: val_accuracy improved from -inf to 0.44080, saving model to /Users/ezalta/Documents/GitHub/atlas-machine_learning/unsupervised_learning//hyperparameter_tuning/ckpt_lr_0.008_beta1_0.8596_beta2_0.9903_epochs_10_batch_64.h5\n",
      "782/782 [==============================] - 108s 128ms/step - loss: 1.0085 - accuracy: 0.6810 - val_loss: 3.1237 - val_accuracy: 0.4408\n",
      "Epoch 2/10\n",
      "782/782 [==============================] - ETA: 0s - loss: 0.5683 - accuracy: 0.8227\n",
      "Epoch 2: val_accuracy improved from 0.44080 to 0.78150, saving model to /Users/ezalta/Documents/GitHub/atlas-machine_learning/unsupervised_learning//hyperparameter_tuning/ckpt_lr_0.008_beta1_0.8596_beta2_0.9903_epochs_10_batch_64.h5\n",
      "782/782 [==============================] - 92s 118ms/step - loss: 0.5683 - accuracy: 0.8227 - val_loss: 0.6864 - val_accuracy: 0.7815\n",
      "Epoch 3/10\n",
      "782/782 [==============================] - ETA: 0s - loss: 0.4185 - accuracy: 0.8675\n",
      "Epoch 3: val_accuracy improved from 0.78150 to 0.81500, saving model to /Users/ezalta/Documents/GitHub/atlas-machine_learning/unsupervised_learning//hyperparameter_tuning/ckpt_lr_0.008_beta1_0.8596_beta2_0.9903_epochs_10_batch_64.h5\n",
      "782/782 [==============================] - 93s 119ms/step - loss: 0.4185 - accuracy: 0.8675 - val_loss: 0.5610 - val_accuracy: 0.8150\n",
      "Epoch 4/10\n",
      "782/782 [==============================] - ETA: 0s - loss: 0.3210 - accuracy: 0.8973\n",
      "Epoch 4: val_accuracy improved from 0.81500 to 0.85360, saving model to /Users/ezalta/Documents/GitHub/atlas-machine_learning/unsupervised_learning//hyperparameter_tuning/ckpt_lr_0.008_beta1_0.8596_beta2_0.9903_epochs_10_batch_64.h5\n",
      "782/782 [==============================] - 95s 121ms/step - loss: 0.3210 - accuracy: 0.8973 - val_loss: 0.4460 - val_accuracy: 0.8536\n",
      "Epoch 5/10\n",
      "782/782 [==============================] - ETA: 0s - loss: 0.2534 - accuracy: 0.9184\n",
      "Epoch 5: val_accuracy did not improve from 0.85360\n",
      "782/782 [==============================] - 94s 120ms/step - loss: 0.2534 - accuracy: 0.9184 - val_loss: 0.4908 - val_accuracy: 0.8515\n",
      "Epoch 6/10\n",
      "782/782 [==============================] - ETA: 0s - loss: 0.2101 - accuracy: 0.9336\n",
      "Epoch 6: val_accuracy improved from 0.85360 to 0.86250, saving model to /Users/ezalta/Documents/GitHub/atlas-machine_learning/unsupervised_learning//hyperparameter_tuning/ckpt_lr_0.008_beta1_0.8596_beta2_0.9903_epochs_10_batch_64.h5\n",
      "782/782 [==============================] - 94s 121ms/step - loss: 0.2101 - accuracy: 0.9336 - val_loss: 0.4318 - val_accuracy: 0.8625\n",
      "Epoch 7/10\n",
      "782/782 [==============================] - ETA: 0s - loss: 0.1707 - accuracy: 0.9464\n",
      "Epoch 7: val_accuracy did not improve from 0.86250\n",
      "782/782 [==============================] - 94s 120ms/step - loss: 0.1707 - accuracy: 0.9464 - val_loss: 0.4754 - val_accuracy: 0.8582\n",
      "Epoch 8/10\n",
      "782/782 [==============================] - ETA: 0s - loss: 0.1459 - accuracy: 0.9539\n",
      "Epoch 8: val_accuracy improved from 0.86250 to 0.89450, saving model to /Users/ezalta/Documents/GitHub/atlas-machine_learning/unsupervised_learning//hyperparameter_tuning/ckpt_lr_0.008_beta1_0.8596_beta2_0.9903_epochs_10_batch_64.h5\n",
      "782/782 [==============================] - 94s 121ms/step - loss: 0.1459 - accuracy: 0.9539 - val_loss: 0.3487 - val_accuracy: 0.8945\n",
      "Epoch 9/10\n",
      "782/782 [==============================] - ETA: 0s - loss: 0.1222 - accuracy: 0.9609\n",
      "Epoch 9: val_accuracy did not improve from 0.89450\n",
      "782/782 [==============================] - 94s 120ms/step - loss: 0.1222 - accuracy: 0.9609 - val_loss: 0.3913 - val_accuracy: 0.8843\n",
      "Epoch 10/10\n",
      "782/782 [==============================] - ETA: 0s - loss: 0.1020 - accuracy: 0.9690\n",
      "Epoch 10: val_accuracy did not improve from 0.89450\n",
      "782/782 [==============================] - 94s 120ms/step - loss: 0.1020 - accuracy: 0.9690 - val_loss: 0.4137 - val_accuracy: 0.8868\n"
     ]
    },
    {
     "name": "stderr",
     "output_type": "stream",
     "text": [
      "WARNING:absl:At this time, the v2.11+ optimizer `tf.keras.optimizers.Adam` runs slowly on M1/M2 Macs, please use the legacy Keras optimizer instead, located at `tf.keras.optimizers.legacy.Adam`.\n",
      "WARNING:absl:`lr` is deprecated in Keras optimizer, please use `learning_rate` or use the legacy optimizer, e.g.,tf.keras.optimizers.legacy.Adam.\n",
      "WARNING:absl:There is a known slowdown when using v2.11+ Keras optimizers on M1/M2 Macs. Falling back to the legacy Keras optimizer, i.e., `tf.keras.optimizers.legacy.Adam`.\n"
     ]
    },
    {
     "name": "stdout",
     "output_type": "stream",
     "text": [
      "Epoch 1/15\n"
     ]
    },
    {
     "name": "stderr",
     "output_type": "stream",
     "text": [
      "2024-06-09 19:44:14.320391: I tensorflow/core/grappler/optimizers/custom_graph_optimizer_registry.cc:114] Plugin optimizer for device_type GPU is enabled.\n"
     ]
    },
    {
     "name": "stdout",
     "output_type": "stream",
     "text": [
      "782/782 [==============================] - ETA: 0s - loss: 0.9357 - accuracy: 0.7066"
     ]
    },
    {
     "name": "stderr",
     "output_type": "stream",
     "text": [
      "2024-06-09 19:45:55.772280: I tensorflow/core/grappler/optimizers/custom_graph_optimizer_registry.cc:114] Plugin optimizer for device_type GPU is enabled.\n"
     ]
    },
    {
     "name": "stdout",
     "output_type": "stream",
     "text": [
      "\n",
      "Epoch 1: val_accuracy improved from -inf to 0.41950, saving model to /Users/ezalta/Documents/GitHub/atlas-machine_learning/unsupervised_learning//hyperparameter_tuning/ckpt_lr_0.01_beta1_0.85_beta2_0.99_epochs_15_batch_64.h5\n",
      "782/782 [==============================] - 112s 134ms/step - loss: 0.9357 - accuracy: 0.7066 - val_loss: 2.5131 - val_accuracy: 0.4195\n",
      "Epoch 2/15\n",
      "782/782 [==============================] - ETA: 0s - loss: 0.5721 - accuracy: 0.8223\n",
      "Epoch 2: val_accuracy improved from 0.41950 to 0.70620, saving model to /Users/ezalta/Documents/GitHub/atlas-machine_learning/unsupervised_learning//hyperparameter_tuning/ckpt_lr_0.01_beta1_0.85_beta2_0.99_epochs_15_batch_64.h5\n",
      "782/782 [==============================] - 93s 119ms/step - loss: 0.5721 - accuracy: 0.8223 - val_loss: 0.9568 - val_accuracy: 0.7062\n",
      "Epoch 3/15\n",
      "782/782 [==============================] - ETA: 0s - loss: 0.4130 - accuracy: 0.8696\n",
      "Epoch 3: val_accuracy improved from 0.70620 to 0.78430, saving model to /Users/ezalta/Documents/GitHub/atlas-machine_learning/unsupervised_learning//hyperparameter_tuning/ckpt_lr_0.01_beta1_0.85_beta2_0.99_epochs_15_batch_64.h5\n",
      "782/782 [==============================] - 93s 119ms/step - loss: 0.4130 - accuracy: 0.8696 - val_loss: 0.6728 - val_accuracy: 0.7843\n",
      "Epoch 4/15\n",
      "782/782 [==============================] - ETA: 0s - loss: 0.3169 - accuracy: 0.8986\n",
      "Epoch 4: val_accuracy improved from 0.78430 to 0.85810, saving model to /Users/ezalta/Documents/GitHub/atlas-machine_learning/unsupervised_learning//hyperparameter_tuning/ckpt_lr_0.01_beta1_0.85_beta2_0.99_epochs_15_batch_64.h5\n",
      "782/782 [==============================] - 95s 122ms/step - loss: 0.3169 - accuracy: 0.8986 - val_loss: 0.4300 - val_accuracy: 0.8581\n",
      "Epoch 5/15\n",
      "782/782 [==============================] - ETA: 0s - loss: 0.2544 - accuracy: 0.9201\n",
      "Epoch 5: val_accuracy did not improve from 0.85810\n",
      "782/782 [==============================] - 95s 122ms/step - loss: 0.2544 - accuracy: 0.9201 - val_loss: 0.5327 - val_accuracy: 0.8348\n",
      "Epoch 6/15\n",
      "782/782 [==============================] - ETA: 0s - loss: 0.2064 - accuracy: 0.9342\n",
      "Epoch 6: val_accuracy did not improve from 0.85810\n",
      "782/782 [==============================] - 96s 122ms/step - loss: 0.2064 - accuracy: 0.9342 - val_loss: 0.5933 - val_accuracy: 0.8315\n",
      "Epoch 7/15\n",
      "782/782 [==============================] - ETA: 0s - loss: 0.1697 - accuracy: 0.9460\n",
      "Epoch 7: val_accuracy improved from 0.85810 to 0.88620, saving model to /Users/ezalta/Documents/GitHub/atlas-machine_learning/unsupervised_learning//hyperparameter_tuning/ckpt_lr_0.01_beta1_0.85_beta2_0.99_epochs_15_batch_64.h5\n",
      "782/782 [==============================] - 96s 122ms/step - loss: 0.1697 - accuracy: 0.9460 - val_loss: 0.3667 - val_accuracy: 0.8862\n",
      "Epoch 8/15\n",
      "782/782 [==============================] - ETA: 0s - loss: 0.1391 - accuracy: 0.9561\n",
      "Epoch 8: val_accuracy improved from 0.88620 to 0.89550, saving model to /Users/ezalta/Documents/GitHub/atlas-machine_learning/unsupervised_learning//hyperparameter_tuning/ckpt_lr_0.01_beta1_0.85_beta2_0.99_epochs_15_batch_64.h5\n",
      "782/782 [==============================] - 96s 122ms/step - loss: 0.1391 - accuracy: 0.9561 - val_loss: 0.3444 - val_accuracy: 0.8955\n",
      "Epoch 9/15\n",
      "782/782 [==============================] - ETA: 0s - loss: 0.1198 - accuracy: 0.9624\n",
      "Epoch 9: val_accuracy improved from 0.89550 to 0.89560, saving model to /Users/ezalta/Documents/GitHub/atlas-machine_learning/unsupervised_learning//hyperparameter_tuning/ckpt_lr_0.01_beta1_0.85_beta2_0.99_epochs_15_batch_64.h5\n",
      "782/782 [==============================] - 95s 122ms/step - loss: 0.1198 - accuracy: 0.9624 - val_loss: 0.3502 - val_accuracy: 0.8956\n",
      "Epoch 10/15\n",
      "782/782 [==============================] - ETA: 0s - loss: 0.1025 - accuracy: 0.9680\n",
      "Epoch 10: val_accuracy did not improve from 0.89560\n",
      "782/782 [==============================] - 95s 121ms/step - loss: 0.1025 - accuracy: 0.9680 - val_loss: 0.4395 - val_accuracy: 0.8796\n",
      "Epoch 11/15\n",
      "782/782 [==============================] - ETA: 0s - loss: 0.0903 - accuracy: 0.9717\n",
      "Epoch 11: val_accuracy did not improve from 0.89560\n",
      "782/782 [==============================] - 95s 122ms/step - loss: 0.0903 - accuracy: 0.9717 - val_loss: 0.3765 - val_accuracy: 0.8956\n",
      "Epoch 12/15\n",
      "782/782 [==============================] - ETA: 0s - loss: 0.0792 - accuracy: 0.9745\n",
      "Epoch 12: val_accuracy did not improve from 0.89560\n",
      "782/782 [==============================] - 95s 122ms/step - loss: 0.0792 - accuracy: 0.9745 - val_loss: 0.4473 - val_accuracy: 0.8824\n",
      "Epoch 13/15\n",
      "782/782 [==============================] - ETA: 0s - loss: 0.0714 - accuracy: 0.9774\n",
      "Epoch 13: val_accuracy did not improve from 0.89560\n",
      "782/782 [==============================] - 95s 121ms/step - loss: 0.0714 - accuracy: 0.9774 - val_loss: 0.4050 - val_accuracy: 0.8918\n",
      "Epoch 14/15\n",
      "782/782 [==============================] - ETA: 0s - loss: 0.0659 - accuracy: 0.9790\n",
      "Epoch 14: val_accuracy did not improve from 0.89560\n",
      "782/782 [==============================] - 95s 121ms/step - loss: 0.0659 - accuracy: 0.9790 - val_loss: 0.4595 - val_accuracy: 0.8812\n",
      "Epoch 14: early stopping\n"
     ]
    },
    {
     "name": "stderr",
     "output_type": "stream",
     "text": [
      "WARNING:absl:At this time, the v2.11+ optimizer `tf.keras.optimizers.Adam` runs slowly on M1/M2 Macs, please use the legacy Keras optimizer instead, located at `tf.keras.optimizers.legacy.Adam`.\n",
      "WARNING:absl:`lr` is deprecated in Keras optimizer, please use `learning_rate` or use the legacy optimizer, e.g.,tf.keras.optimizers.legacy.Adam.\n",
      "WARNING:absl:There is a known slowdown when using v2.11+ Keras optimizers on M1/M2 Macs. Falling back to the legacy Keras optimizer, i.e., `tf.keras.optimizers.legacy.Adam`.\n"
     ]
    },
    {
     "name": "stdout",
     "output_type": "stream",
     "text": [
      "Epoch 1/10\n"
     ]
    },
    {
     "name": "stderr",
     "output_type": "stream",
     "text": [
      "2024-06-09 20:06:41.806026: I tensorflow/core/grappler/optimizers/custom_graph_optimizer_registry.cc:114] Plugin optimizer for device_type GPU is enabled.\n"
     ]
    },
    {
     "name": "stdout",
     "output_type": "stream",
     "text": [
      "391/391 [==============================] - ETA: 0s - loss: 0.9388 - accuracy: 0.7080"
     ]
    },
    {
     "name": "stderr",
     "output_type": "stream",
     "text": [
      "2024-06-09 20:08:14.431838: I tensorflow/core/grappler/optimizers/custom_graph_optimizer_registry.cc:114] Plugin optimizer for device_type GPU is enabled.\n"
     ]
    },
    {
     "name": "stdout",
     "output_type": "stream",
     "text": [
      "\n",
      "Epoch 1: val_accuracy improved from -inf to 0.57050, saving model to /Users/ezalta/Documents/GitHub/atlas-machine_learning/unsupervised_learning//hyperparameter_tuning/ckpt_lr_0.00755_beta1_0.9334_beta2_0.9901_epochs_10_batch_128.h5\n",
      "391/391 [==============================] - 104s 250ms/step - loss: 0.9388 - accuracy: 0.7080 - val_loss: 1.7837 - val_accuracy: 0.5705\n",
      "Epoch 2/10\n",
      "391/391 [==============================] - ETA: 0s - loss: 0.5111 - accuracy: 0.8443\n",
      "Epoch 2: val_accuracy improved from 0.57050 to 0.72230, saving model to /Users/ezalta/Documents/GitHub/atlas-machine_learning/unsupervised_learning//hyperparameter_tuning/ckpt_lr_0.00755_beta1_0.9334_beta2_0.9901_epochs_10_batch_128.h5\n",
      "391/391 [==============================] - 86s 221ms/step - loss: 0.5111 - accuracy: 0.8443 - val_loss: 1.0229 - val_accuracy: 0.7223\n",
      "Epoch 3/10\n",
      "391/391 [==============================] - ETA: 0s - loss: 0.3779 - accuracy: 0.8836\n",
      "Epoch 3: val_accuracy improved from 0.72230 to 0.83650, saving model to /Users/ezalta/Documents/GitHub/atlas-machine_learning/unsupervised_learning//hyperparameter_tuning/ckpt_lr_0.00755_beta1_0.9334_beta2_0.9901_epochs_10_batch_128.h5\n",
      "391/391 [==============================] - 88s 224ms/step - loss: 0.3779 - accuracy: 0.8836 - val_loss: 0.5480 - val_accuracy: 0.8365\n",
      "Epoch 4/10\n",
      "391/391 [==============================] - ETA: 0s - loss: 0.2977 - accuracy: 0.9076\n",
      "Epoch 4: val_accuracy did not improve from 0.83650\n",
      "391/391 [==============================] - 89s 227ms/step - loss: 0.2977 - accuracy: 0.9076 - val_loss: 0.6911 - val_accuracy: 0.8092\n",
      "Epoch 5/10\n",
      "391/391 [==============================] - ETA: 0s - loss: 0.2299 - accuracy: 0.9273\n",
      "Epoch 5: val_accuracy did not improve from 0.83650\n",
      "391/391 [==============================] - 89s 227ms/step - loss: 0.2299 - accuracy: 0.9273 - val_loss: 0.5790 - val_accuracy: 0.8354\n",
      "Epoch 6/10\n",
      "391/391 [==============================] - ETA: 0s - loss: 0.1899 - accuracy: 0.9406\n",
      "Epoch 6: val_accuracy improved from 0.83650 to 0.86940, saving model to /Users/ezalta/Documents/GitHub/atlas-machine_learning/unsupervised_learning//hyperparameter_tuning/ckpt_lr_0.00755_beta1_0.9334_beta2_0.9901_epochs_10_batch_128.h5\n",
      "391/391 [==============================] - 89s 227ms/step - loss: 0.1899 - accuracy: 0.9406 - val_loss: 0.4356 - val_accuracy: 0.8694\n",
      "Epoch 7/10\n",
      "391/391 [==============================] - ETA: 0s - loss: 0.1562 - accuracy: 0.9514\n",
      "Epoch 7: val_accuracy did not improve from 0.86940\n",
      "391/391 [==============================] - 88s 226ms/step - loss: 0.1562 - accuracy: 0.9514 - val_loss: 0.4547 - val_accuracy: 0.8690\n",
      "Epoch 8/10\n",
      "391/391 [==============================] - ETA: 0s - loss: 0.1351 - accuracy: 0.9581\n",
      "Epoch 8: val_accuracy improved from 0.86940 to 0.88370, saving model to /Users/ezalta/Documents/GitHub/atlas-machine_learning/unsupervised_learning//hyperparameter_tuning/ckpt_lr_0.00755_beta1_0.9334_beta2_0.9901_epochs_10_batch_128.h5\n",
      "391/391 [==============================] - 90s 230ms/step - loss: 0.1351 - accuracy: 0.9581 - val_loss: 0.3905 - val_accuracy: 0.8837\n",
      "Epoch 9/10\n",
      "391/391 [==============================] - ETA: 0s - loss: 0.1097 - accuracy: 0.9656\n",
      "Epoch 9: val_accuracy improved from 0.88370 to 0.89620, saving model to /Users/ezalta/Documents/GitHub/atlas-machine_learning/unsupervised_learning//hyperparameter_tuning/ckpt_lr_0.00755_beta1_0.9334_beta2_0.9901_epochs_10_batch_128.h5\n",
      "391/391 [==============================] - 89s 229ms/step - loss: 0.1097 - accuracy: 0.9656 - val_loss: 0.3619 - val_accuracy: 0.8962\n",
      "Epoch 10/10\n",
      "391/391 [==============================] - ETA: 0s - loss: 0.0926 - accuracy: 0.9718\n",
      "Epoch 10: val_accuracy did not improve from 0.89620\n",
      "391/391 [==============================] - 89s 227ms/step - loss: 0.0926 - accuracy: 0.9718 - val_loss: 0.4482 - val_accuracy: 0.8801\n"
     ]
    },
    {
     "name": "stderr",
     "output_type": "stream",
     "text": [
      "WARNING:absl:At this time, the v2.11+ optimizer `tf.keras.optimizers.Adam` runs slowly on M1/M2 Macs, please use the legacy Keras optimizer instead, located at `tf.keras.optimizers.legacy.Adam`.\n",
      "WARNING:absl:`lr` is deprecated in Keras optimizer, please use `learning_rate` or use the legacy optimizer, e.g.,tf.keras.optimizers.legacy.Adam.\n",
      "WARNING:absl:There is a known slowdown when using v2.11+ Keras optimizers on M1/M2 Macs. Falling back to the legacy Keras optimizer, i.e., `tf.keras.optimizers.legacy.Adam`.\n"
     ]
    },
    {
     "name": "stdout",
     "output_type": "stream",
     "text": [
      "Epoch 1/10\n"
     ]
    },
    {
     "name": "stderr",
     "output_type": "stream",
     "text": [
      "2024-06-09 20:21:44.336751: I tensorflow/core/grappler/optimizers/custom_graph_optimizer_registry.cc:114] Plugin optimizer for device_type GPU is enabled.\n"
     ]
    },
    {
     "name": "stdout",
     "output_type": "stream",
     "text": [
      "391/391 [==============================] - ETA: 0s - loss: 0.8175 - accuracy: 0.7508"
     ]
    },
    {
     "name": "stderr",
     "output_type": "stream",
     "text": [
      "2024-06-09 20:23:17.795846: I tensorflow/core/grappler/optimizers/custom_graph_optimizer_registry.cc:114] Plugin optimizer for device_type GPU is enabled.\n"
     ]
    },
    {
     "name": "stdout",
     "output_type": "stream",
     "text": [
      "\n",
      "Epoch 1: val_accuracy improved from -inf to 0.70720, saving model to /Users/ezalta/Documents/GitHub/atlas-machine_learning/unsupervised_learning//hyperparameter_tuning/ckpt_lr_0.0_beta1_0.85_beta2_0.999_epochs_10_batch_128.h5\n",
      "391/391 [==============================] - 105s 250ms/step - loss: 0.8175 - accuracy: 0.7508 - val_loss: 1.0012 - val_accuracy: 0.7072\n",
      "Epoch 2/10\n",
      "391/391 [==============================] - ETA: 0s - loss: 0.4119 - accuracy: 0.8754\n",
      "Epoch 2: val_accuracy improved from 0.70720 to 0.77790, saving model to /Users/ezalta/Documents/GitHub/atlas-machine_learning/unsupervised_learning//hyperparameter_tuning/ckpt_lr_0.0_beta1_0.85_beta2_0.999_epochs_10_batch_128.h5\n",
      "391/391 [==============================] - 87s 222ms/step - loss: 0.4119 - accuracy: 0.8754 - val_loss: 0.7429 - val_accuracy: 0.7779\n",
      "Epoch 3/10\n",
      "391/391 [==============================] - ETA: 0s - loss: 0.3000 - accuracy: 0.9094\n",
      "Epoch 3: val_accuracy improved from 0.77790 to 0.80800, saving model to /Users/ezalta/Documents/GitHub/atlas-machine_learning/unsupervised_learning//hyperparameter_tuning/ckpt_lr_0.0_beta1_0.85_beta2_0.999_epochs_10_batch_128.h5\n",
      "391/391 [==============================] - 88s 226ms/step - loss: 0.3000 - accuracy: 0.9094 - val_loss: 0.6591 - val_accuracy: 0.8080\n",
      "Epoch 4/10\n",
      "391/391 [==============================] - ETA: 0s - loss: 0.2421 - accuracy: 0.9252\n",
      "Epoch 4: val_accuracy did not improve from 0.80800\n",
      "391/391 [==============================] - 89s 228ms/step - loss: 0.2421 - accuracy: 0.9252 - val_loss: 0.6485 - val_accuracy: 0.8030\n",
      "Epoch 5/10\n",
      "391/391 [==============================] - ETA: 0s - loss: 0.2035 - accuracy: 0.9375\n",
      "Epoch 5: val_accuracy improved from 0.80800 to 0.83140, saving model to /Users/ezalta/Documents/GitHub/atlas-machine_learning/unsupervised_learning//hyperparameter_tuning/ckpt_lr_0.0_beta1_0.85_beta2_0.999_epochs_10_batch_128.h5\n",
      "391/391 [==============================] - 90s 229ms/step - loss: 0.2035 - accuracy: 0.9375 - val_loss: 0.5843 - val_accuracy: 0.8314\n",
      "Epoch 6/10\n",
      "391/391 [==============================] - ETA: 0s - loss: 0.1656 - accuracy: 0.9486\n",
      "Epoch 6: val_accuracy improved from 0.83140 to 0.85500, saving model to /Users/ezalta/Documents/GitHub/atlas-machine_learning/unsupervised_learning//hyperparameter_tuning/ckpt_lr_0.0_beta1_0.85_beta2_0.999_epochs_10_batch_128.h5\n",
      "391/391 [==============================] - 90s 230ms/step - loss: 0.1656 - accuracy: 0.9486 - val_loss: 0.4743 - val_accuracy: 0.8550\n",
      "Epoch 7/10\n",
      "391/391 [==============================] - ETA: 0s - loss: 0.1522 - accuracy: 0.9520\n",
      "Epoch 7: val_accuracy improved from 0.85500 to 0.86170, saving model to /Users/ezalta/Documents/GitHub/atlas-machine_learning/unsupervised_learning//hyperparameter_tuning/ckpt_lr_0.0_beta1_0.85_beta2_0.999_epochs_10_batch_128.h5\n",
      "391/391 [==============================] - 90s 229ms/step - loss: 0.1522 - accuracy: 0.9520 - val_loss: 0.4826 - val_accuracy: 0.8617\n",
      "Epoch 8/10\n",
      "391/391 [==============================] - ETA: 0s - loss: 0.1293 - accuracy: 0.9595\n",
      "Epoch 8: val_accuracy improved from 0.86170 to 0.87570, saving model to /Users/ezalta/Documents/GitHub/atlas-machine_learning/unsupervised_learning//hyperparameter_tuning/ckpt_lr_0.0_beta1_0.85_beta2_0.999_epochs_10_batch_128.h5\n",
      "391/391 [==============================] - 89s 229ms/step - loss: 0.1293 - accuracy: 0.9595 - val_loss: 0.4429 - val_accuracy: 0.8757\n",
      "Epoch 9/10\n",
      "391/391 [==============================] - ETA: 0s - loss: 0.1093 - accuracy: 0.9667\n",
      "Epoch 9: val_accuracy improved from 0.87570 to 0.87850, saving model to /Users/ezalta/Documents/GitHub/atlas-machine_learning/unsupervised_learning//hyperparameter_tuning/ckpt_lr_0.0_beta1_0.85_beta2_0.999_epochs_10_batch_128.h5\n",
      "391/391 [==============================] - 89s 228ms/step - loss: 0.1093 - accuracy: 0.9667 - val_loss: 0.4250 - val_accuracy: 0.8785\n",
      "Epoch 10/10\n",
      "391/391 [==============================] - ETA: 0s - loss: 0.0996 - accuracy: 0.9689\n",
      "Epoch 10: val_accuracy did not improve from 0.87850\n",
      "391/391 [==============================] - 89s 227ms/step - loss: 0.0996 - accuracy: 0.9689 - val_loss: 0.4704 - val_accuracy: 0.8710\n"
     ]
    },
    {
     "name": "stderr",
     "output_type": "stream",
     "text": [
      "WARNING:absl:At this time, the v2.11+ optimizer `tf.keras.optimizers.Adam` runs slowly on M1/M2 Macs, please use the legacy Keras optimizer instead, located at `tf.keras.optimizers.legacy.Adam`.\n",
      "WARNING:absl:`lr` is deprecated in Keras optimizer, please use `learning_rate` or use the legacy optimizer, e.g.,tf.keras.optimizers.legacy.Adam.\n",
      "WARNING:absl:There is a known slowdown when using v2.11+ Keras optimizers on M1/M2 Macs. Falling back to the legacy Keras optimizer, i.e., `tf.keras.optimizers.legacy.Adam`.\n"
     ]
    },
    {
     "name": "stdout",
     "output_type": "stream",
     "text": [
      "Epoch 1/15\n"
     ]
    },
    {
     "name": "stderr",
     "output_type": "stream",
     "text": [
      "2024-06-09 20:36:52.213321: I tensorflow/core/grappler/optimizers/custom_graph_optimizer_registry.cc:114] Plugin optimizer for device_type GPU is enabled.\n"
     ]
    },
    {
     "name": "stdout",
     "output_type": "stream",
     "text": [
      "391/391 [==============================] - ETA: 0s - loss: 0.8398 - accuracy: 0.7390"
     ]
    },
    {
     "name": "stderr",
     "output_type": "stream",
     "text": [
      "2024-06-09 20:38:28.636200: I tensorflow/core/grappler/optimizers/custom_graph_optimizer_registry.cc:114] Plugin optimizer for device_type GPU is enabled.\n"
     ]
    },
    {
     "name": "stdout",
     "output_type": "stream",
     "text": [
      "\n",
      "Epoch 1: val_accuracy improved from -inf to 0.67940, saving model to /Users/ezalta/Documents/GitHub/atlas-machine_learning/unsupervised_learning//hyperparameter_tuning/ckpt_lr_0.0_beta1_0.85_beta2_0.999_epochs_15_batch_128.h5\n",
      "391/391 [==============================] - 108s 256ms/step - loss: 0.8398 - accuracy: 0.7390 - val_loss: 1.1785 - val_accuracy: 0.6794\n",
      "Epoch 2/15\n",
      "391/391 [==============================] - ETA: 0s - loss: 0.4097 - accuracy: 0.8770\n",
      "Epoch 2: val_accuracy improved from 0.67940 to 0.78640, saving model to /Users/ezalta/Documents/GitHub/atlas-machine_learning/unsupervised_learning//hyperparameter_tuning/ckpt_lr_0.0_beta1_0.85_beta2_0.999_epochs_15_batch_128.h5\n",
      "391/391 [==============================] - 86s 220ms/step - loss: 0.4097 - accuracy: 0.8770 - val_loss: 0.7349 - val_accuracy: 0.7864\n",
      "Epoch 3/15\n",
      "391/391 [==============================] - ETA: 0s - loss: 0.2971 - accuracy: 0.9118\n",
      "Epoch 3: val_accuracy improved from 0.78640 to 0.86400, saving model to /Users/ezalta/Documents/GitHub/atlas-machine_learning/unsupervised_learning//hyperparameter_tuning/ckpt_lr_0.0_beta1_0.85_beta2_0.999_epochs_15_batch_128.h5\n",
      "391/391 [==============================] - 88s 224ms/step - loss: 0.2971 - accuracy: 0.9118 - val_loss: 0.4415 - val_accuracy: 0.8640\n",
      "Epoch 4/15\n",
      "391/391 [==============================] - ETA: 0s - loss: 0.2384 - accuracy: 0.9277\n",
      "Epoch 4: val_accuracy did not improve from 0.86400\n",
      "391/391 [==============================] - 89s 228ms/step - loss: 0.2384 - accuracy: 0.9277 - val_loss: 0.4569 - val_accuracy: 0.8605\n",
      "Epoch 5/15\n",
      "391/391 [==============================] - ETA: 0s - loss: 0.2014 - accuracy: 0.9379\n",
      "Epoch 5: val_accuracy did not improve from 0.86400\n",
      "391/391 [==============================] - 89s 228ms/step - loss: 0.2014 - accuracy: 0.9379 - val_loss: 0.8313 - val_accuracy: 0.7777\n",
      "Epoch 6/15\n",
      "391/391 [==============================] - ETA: 0s - loss: 0.1660 - accuracy: 0.9491\n",
      "Epoch 6: val_accuracy did not improve from 0.86400\n",
      "391/391 [==============================] - 89s 228ms/step - loss: 0.1660 - accuracy: 0.9491 - val_loss: 0.6315 - val_accuracy: 0.8315\n",
      "Epoch 7/15\n",
      "391/391 [==============================] - ETA: 0s - loss: 0.1444 - accuracy: 0.9550\n",
      "Epoch 7: val_accuracy did not improve from 0.86400\n",
      "391/391 [==============================] - 89s 228ms/step - loss: 0.1444 - accuracy: 0.9550 - val_loss: 0.6067 - val_accuracy: 0.8328\n",
      "Epoch 8/15\n",
      "391/391 [==============================] - ETA: 0s - loss: 0.1245 - accuracy: 0.9611\n",
      "Epoch 8: val_accuracy did not improve from 0.86400\n",
      "391/391 [==============================] - 89s 228ms/step - loss: 0.1245 - accuracy: 0.9611 - val_loss: 0.6056 - val_accuracy: 0.8337\n",
      "Epoch 8: early stopping\n"
     ]
    },
    {
     "name": "stderr",
     "output_type": "stream",
     "text": [
      "WARNING:absl:At this time, the v2.11+ optimizer `tf.keras.optimizers.Adam` runs slowly on M1/M2 Macs, please use the legacy Keras optimizer instead, located at `tf.keras.optimizers.legacy.Adam`.\n",
      "WARNING:absl:`lr` is deprecated in Keras optimizer, please use `learning_rate` or use the legacy optimizer, e.g.,tf.keras.optimizers.legacy.Adam.\n",
      "WARNING:absl:There is a known slowdown when using v2.11+ Keras optimizers on M1/M2 Macs. Falling back to the legacy Keras optimizer, i.e., `tf.keras.optimizers.legacy.Adam`.\n"
     ]
    },
    {
     "name": "stdout",
     "output_type": "stream",
     "text": [
      "Epoch 1/10\n"
     ]
    },
    {
     "name": "stderr",
     "output_type": "stream",
     "text": [
      "2024-06-09 20:49:01.911115: I tensorflow/core/grappler/optimizers/custom_graph_optimizer_registry.cc:114] Plugin optimizer for device_type GPU is enabled.\n"
     ]
    },
    {
     "name": "stdout",
     "output_type": "stream",
     "text": [
      "391/391 [==============================] - ETA: 0s - loss: 0.9790 - accuracy: 0.6951"
     ]
    },
    {
     "name": "stderr",
     "output_type": "stream",
     "text": [
      "2024-06-09 20:50:42.936954: I tensorflow/core/grappler/optimizers/custom_graph_optimizer_registry.cc:114] Plugin optimizer for device_type GPU is enabled.\n"
     ]
    },
    {
     "name": "stdout",
     "output_type": "stream",
     "text": [
      "\n",
      "Epoch 1: val_accuracy improved from -inf to 0.74220, saving model to /Users/ezalta/Documents/GitHub/atlas-machine_learning/unsupervised_learning//hyperparameter_tuning/ckpt_lr_0.0_beta1_0.95_beta2_0.999_epochs_10_batch_128.h5\n",
      "391/391 [==============================] - 113s 251ms/step - loss: 0.9790 - accuracy: 0.6951 - val_loss: 0.8072 - val_accuracy: 0.7422\n",
      "Epoch 2/10\n",
      "391/391 [==============================] - ETA: 0s - loss: 0.4679 - accuracy: 0.8578\n",
      "Epoch 2: val_accuracy improved from 0.74220 to 0.84050, saving model to /Users/ezalta/Documents/GitHub/atlas-machine_learning/unsupervised_learning//hyperparameter_tuning/ckpt_lr_0.0_beta1_0.95_beta2_0.999_epochs_10_batch_128.h5\n",
      "391/391 [==============================] - 86s 220ms/step - loss: 0.4679 - accuracy: 0.8578 - val_loss: 0.5148 - val_accuracy: 0.8405\n",
      "Epoch 3/10\n",
      "391/391 [==============================] - ETA: 0s - loss: 0.3335 - accuracy: 0.8978\n",
      "Epoch 3: val_accuracy did not improve from 0.84050\n",
      "391/391 [==============================] - 87s 224ms/step - loss: 0.3335 - accuracy: 0.8978 - val_loss: 0.5589 - val_accuracy: 0.8273\n",
      "Epoch 4/10\n",
      "391/391 [==============================] - ETA: 0s - loss: 0.2724 - accuracy: 0.9164\n",
      "Epoch 4: val_accuracy improved from 0.84050 to 0.86600, saving model to /Users/ezalta/Documents/GitHub/atlas-machine_learning/unsupervised_learning//hyperparameter_tuning/ckpt_lr_0.0_beta1_0.95_beta2_0.999_epochs_10_batch_128.h5\n",
      "391/391 [==============================] - 90s 230ms/step - loss: 0.2724 - accuracy: 0.9164 - val_loss: 0.4406 - val_accuracy: 0.8660\n",
      "Epoch 5/10\n",
      "391/391 [==============================] - ETA: 0s - loss: 0.2194 - accuracy: 0.9332\n",
      "Epoch 5: val_accuracy did not improve from 0.86600\n",
      "391/391 [==============================] - 89s 228ms/step - loss: 0.2194 - accuracy: 0.9332 - val_loss: 0.5648 - val_accuracy: 0.8388\n",
      "Epoch 6/10\n",
      "391/391 [==============================] - ETA: 0s - loss: 0.1825 - accuracy: 0.9445\n",
      "Epoch 6: val_accuracy did not improve from 0.86600\n",
      "391/391 [==============================] - 88s 225ms/step - loss: 0.1825 - accuracy: 0.9445 - val_loss: 0.5226 - val_accuracy: 0.8532\n",
      "Epoch 7/10\n",
      "391/391 [==============================] - ETA: 0s - loss: 0.1587 - accuracy: 0.9505\n",
      "Epoch 7: val_accuracy did not improve from 0.86600\n",
      "391/391 [==============================] - 88s 226ms/step - loss: 0.1587 - accuracy: 0.9505 - val_loss: 0.4923 - val_accuracy: 0.8608\n",
      "Epoch 8/10\n",
      "391/391 [==============================] - ETA: 0s - loss: 0.1327 - accuracy: 0.9588\n",
      "Epoch 8: val_accuracy did not improve from 0.86600\n",
      "391/391 [==============================] - 88s 225ms/step - loss: 0.1327 - accuracy: 0.9588 - val_loss: 0.8573 - val_accuracy: 0.7923\n",
      "Epoch 9/10\n",
      "391/391 [==============================] - ETA: 0s - loss: 0.1276 - accuracy: 0.9605\n",
      "Epoch 9: val_accuracy did not improve from 0.86600\n",
      "391/391 [==============================] - 88s 225ms/step - loss: 0.1276 - accuracy: 0.9605 - val_loss: 0.5077 - val_accuracy: 0.8589\n",
      "Epoch 9: early stopping\n"
     ]
    },
    {
     "name": "stderr",
     "output_type": "stream",
     "text": [
      "WARNING:absl:At this time, the v2.11+ optimizer `tf.keras.optimizers.Adam` runs slowly on M1/M2 Macs, please use the legacy Keras optimizer instead, located at `tf.keras.optimizers.legacy.Adam`.\n",
      "WARNING:absl:`lr` is deprecated in Keras optimizer, please use `learning_rate` or use the legacy optimizer, e.g.,tf.keras.optimizers.legacy.Adam.\n",
      "WARNING:absl:There is a known slowdown when using v2.11+ Keras optimizers on M1/M2 Macs. Falling back to the legacy Keras optimizer, i.e., `tf.keras.optimizers.legacy.Adam`.\n"
     ]
    },
    {
     "name": "stdout",
     "output_type": "stream",
     "text": [
      "Epoch 1/10\n"
     ]
    },
    {
     "name": "stderr",
     "output_type": "stream",
     "text": [
      "2024-06-09 21:02:40.990165: I tensorflow/core/grappler/optimizers/custom_graph_optimizer_registry.cc:114] Plugin optimizer for device_type GPU is enabled.\n"
     ]
    },
    {
     "name": "stdout",
     "output_type": "stream",
     "text": [
      "782/782 [==============================] - ETA: 0s - loss: 1.3044 - accuracy: 0.5535"
     ]
    },
    {
     "name": "stderr",
     "output_type": "stream",
     "text": [
      "2024-06-09 21:04:28.088477: I tensorflow/core/grappler/optimizers/custom_graph_optimizer_registry.cc:114] Plugin optimizer for device_type GPU is enabled.\n"
     ]
    },
    {
     "name": "stdout",
     "output_type": "stream",
     "text": [
      "\n",
      "Epoch 1: val_accuracy improved from -inf to 0.67080, saving model to /Users/ezalta/Documents/GitHub/atlas-machine_learning/unsupervised_learning//hyperparameter_tuning/ckpt_lr_0.01_beta1_0.85_beta2_0.99_epochs_10_batch_64.h5\n",
      "782/782 [==============================] - 121s 141ms/step - loss: 1.3044 - accuracy: 0.5535 - val_loss: 1.0180 - val_accuracy: 0.6708\n",
      "Epoch 2/10\n",
      "782/782 [==============================] - ETA: 0s - loss: 0.6457 - accuracy: 0.7995\n",
      "Epoch 2: val_accuracy improved from 0.67080 to 0.70570, saving model to /Users/ezalta/Documents/GitHub/atlas-machine_learning/unsupervised_learning//hyperparameter_tuning/ckpt_lr_0.01_beta1_0.85_beta2_0.99_epochs_10_batch_64.h5\n",
      "782/782 [==============================] - 95s 121ms/step - loss: 0.6457 - accuracy: 0.7995 - val_loss: 0.9930 - val_accuracy: 0.7057\n",
      "Epoch 3/10\n",
      "782/782 [==============================] - ETA: 0s - loss: 0.4672 - accuracy: 0.8521\n",
      "Epoch 3: val_accuracy improved from 0.70570 to 0.76520, saving model to /Users/ezalta/Documents/GitHub/atlas-machine_learning/unsupervised_learning//hyperparameter_tuning/ckpt_lr_0.01_beta1_0.85_beta2_0.99_epochs_10_batch_64.h5\n",
      "782/782 [==============================] - 95s 121ms/step - loss: 0.4672 - accuracy: 0.8521 - val_loss: 0.7561 - val_accuracy: 0.7652\n",
      "Epoch 4/10\n",
      "782/782 [==============================] - ETA: 0s - loss: 0.3583 - accuracy: 0.8873\n",
      "Epoch 4: val_accuracy improved from 0.76520 to 0.82620, saving model to /Users/ezalta/Documents/GitHub/atlas-machine_learning/unsupervised_learning//hyperparameter_tuning/ckpt_lr_0.01_beta1_0.85_beta2_0.99_epochs_10_batch_64.h5\n",
      "782/782 [==============================] - 95s 121ms/step - loss: 0.3583 - accuracy: 0.8873 - val_loss: 0.5537 - val_accuracy: 0.8262\n",
      "Epoch 5/10\n",
      "782/782 [==============================] - ETA: 0s - loss: 0.2889 - accuracy: 0.9094\n",
      "Epoch 5: val_accuracy improved from 0.82620 to 0.86200, saving model to /Users/ezalta/Documents/GitHub/atlas-machine_learning/unsupervised_learning//hyperparameter_tuning/ckpt_lr_0.01_beta1_0.85_beta2_0.99_epochs_10_batch_64.h5\n",
      "782/782 [==============================] - 95s 121ms/step - loss: 0.2889 - accuracy: 0.9094 - val_loss: 0.4281 - val_accuracy: 0.8620\n",
      "Epoch 6/10\n",
      "782/782 [==============================] - ETA: 0s - loss: 0.2296 - accuracy: 0.9270\n",
      "Epoch 6: val_accuracy did not improve from 0.86200\n",
      "782/782 [==============================] - 94s 120ms/step - loss: 0.2296 - accuracy: 0.9270 - val_loss: 0.4862 - val_accuracy: 0.8482\n",
      "Epoch 7/10\n",
      "782/782 [==============================] - ETA: 0s - loss: 0.1895 - accuracy: 0.9402\n",
      "Epoch 7: val_accuracy improved from 0.86200 to 0.87020, saving model to /Users/ezalta/Documents/GitHub/atlas-machine_learning/unsupervised_learning//hyperparameter_tuning/ckpt_lr_0.01_beta1_0.85_beta2_0.99_epochs_10_batch_64.h5\n",
      "782/782 [==============================] - 94s 121ms/step - loss: 0.1895 - accuracy: 0.9402 - val_loss: 0.4185 - val_accuracy: 0.8702\n",
      "Epoch 8/10\n",
      "782/782 [==============================] - ETA: 0s - loss: 0.1541 - accuracy: 0.9513\n",
      "Epoch 8: val_accuracy did not improve from 0.87020\n",
      "782/782 [==============================] - 95s 122ms/step - loss: 0.1541 - accuracy: 0.9513 - val_loss: 0.4603 - val_accuracy: 0.8668\n",
      "Epoch 9/10\n",
      "782/782 [==============================] - ETA: 0s - loss: 0.1299 - accuracy: 0.9584\n",
      "Epoch 9: val_accuracy did not improve from 0.87020\n",
      "782/782 [==============================] - 95s 122ms/step - loss: 0.1299 - accuracy: 0.9584 - val_loss: 0.5621 - val_accuracy: 0.8447\n",
      "Epoch 10/10\n",
      "782/782 [==============================] - ETA: 0s - loss: 0.1071 - accuracy: 0.9661\n",
      "Epoch 10: val_accuracy improved from 0.87020 to 0.88490, saving model to /Users/ezalta/Documents/GitHub/atlas-machine_learning/unsupervised_learning//hyperparameter_tuning/ckpt_lr_0.01_beta1_0.85_beta2_0.99_epochs_10_batch_64.h5\n",
      "782/782 [==============================] - 95s 122ms/step - loss: 0.1071 - accuracy: 0.9661 - val_loss: 0.4196 - val_accuracy: 0.8849\n"
     ]
    },
    {
     "name": "stderr",
     "output_type": "stream",
     "text": [
      "WARNING:absl:At this time, the v2.11+ optimizer `tf.keras.optimizers.Adam` runs slowly on M1/M2 Macs, please use the legacy Keras optimizer instead, located at `tf.keras.optimizers.legacy.Adam`.\n",
      "WARNING:absl:`lr` is deprecated in Keras optimizer, please use `learning_rate` or use the legacy optimizer, e.g.,tf.keras.optimizers.legacy.Adam.\n",
      "WARNING:absl:There is a known slowdown when using v2.11+ Keras optimizers on M1/M2 Macs. Falling back to the legacy Keras optimizer, i.e., `tf.keras.optimizers.legacy.Adam`.\n"
     ]
    },
    {
     "name": "stdout",
     "output_type": "stream",
     "text": [
      "Epoch 1/15\n"
     ]
    },
    {
     "name": "stderr",
     "output_type": "stream",
     "text": [
      "2024-06-09 21:18:58.667438: I tensorflow/core/grappler/optimizers/custom_graph_optimizer_registry.cc:114] Plugin optimizer for device_type GPU is enabled.\n"
     ]
    },
    {
     "name": "stdout",
     "output_type": "stream",
     "text": [
      "782/782 [==============================] - ETA: 0s - loss: 0.9793 - accuracy: 0.6878"
     ]
    },
    {
     "name": "stderr",
     "output_type": "stream",
     "text": [
      "2024-06-09 21:20:46.176726: I tensorflow/core/grappler/optimizers/custom_graph_optimizer_registry.cc:114] Plugin optimizer for device_type GPU is enabled.\n"
     ]
    },
    {
     "name": "stdout",
     "output_type": "stream",
     "text": [
      "\n",
      "Epoch 1: val_accuracy improved from -inf to 0.75010, saving model to /Users/ezalta/Documents/GitHub/atlas-machine_learning/unsupervised_learning//hyperparameter_tuning/ckpt_lr_0.01_beta1_0.85_beta2_0.99_epochs_15_batch_64.h5\n",
      "782/782 [==============================] - 119s 138ms/step - loss: 0.9793 - accuracy: 0.6878 - val_loss: 0.7997 - val_accuracy: 0.7501\n",
      "Epoch 2/15\n",
      "782/782 [==============================] - ETA: 0s - loss: 0.5562 - accuracy: 0.8255\n",
      "Epoch 2: val_accuracy did not improve from 0.75010\n",
      "782/782 [==============================] - 95s 122ms/step - loss: 0.5562 - accuracy: 0.8255 - val_loss: 0.8678 - val_accuracy: 0.7440\n",
      "Epoch 3/15\n",
      "782/782 [==============================] - ETA: 0s - loss: 0.4095 - accuracy: 0.8705\n",
      "Epoch 3: val_accuracy improved from 0.75010 to 0.84980, saving model to /Users/ezalta/Documents/GitHub/atlas-machine_learning/unsupervised_learning//hyperparameter_tuning/ckpt_lr_0.01_beta1_0.85_beta2_0.99_epochs_15_batch_64.h5\n",
      "782/782 [==============================] - 95s 121ms/step - loss: 0.4095 - accuracy: 0.8705 - val_loss: 0.4585 - val_accuracy: 0.8498\n",
      "Epoch 4/15\n",
      "782/782 [==============================] - ETA: 0s - loss: 0.3178 - accuracy: 0.9006\n",
      "Epoch 4: val_accuracy did not improve from 0.84980\n",
      "782/782 [==============================] - 94s 121ms/step - loss: 0.3178 - accuracy: 0.9006 - val_loss: 0.6810 - val_accuracy: 0.7903\n",
      "Epoch 5/15\n",
      "782/782 [==============================] - ETA: 0s - loss: 0.2528 - accuracy: 0.9198\n",
      "Epoch 5: val_accuracy improved from 0.84980 to 0.86940, saving model to /Users/ezalta/Documents/GitHub/atlas-machine_learning/unsupervised_learning//hyperparameter_tuning/ckpt_lr_0.01_beta1_0.85_beta2_0.99_epochs_15_batch_64.h5\n",
      "782/782 [==============================] - 96s 122ms/step - loss: 0.2528 - accuracy: 0.9198 - val_loss: 0.4179 - val_accuracy: 0.8694\n",
      "Epoch 6/15\n",
      "782/782 [==============================] - ETA: 0s - loss: 0.2041 - accuracy: 0.9345\n",
      "Epoch 6: val_accuracy improved from 0.86940 to 0.87130, saving model to /Users/ezalta/Documents/GitHub/atlas-machine_learning/unsupervised_learning//hyperparameter_tuning/ckpt_lr_0.01_beta1_0.85_beta2_0.99_epochs_15_batch_64.h5\n",
      "782/782 [==============================] - 96s 123ms/step - loss: 0.2041 - accuracy: 0.9345 - val_loss: 0.4300 - val_accuracy: 0.8713\n",
      "Epoch 7/15\n",
      "782/782 [==============================] - ETA: 0s - loss: 0.1679 - accuracy: 0.9472\n",
      "Epoch 7: val_accuracy did not improve from 0.87130\n",
      "782/782 [==============================] - 96s 123ms/step - loss: 0.1679 - accuracy: 0.9472 - val_loss: 0.5134 - val_accuracy: 0.8541\n",
      "Epoch 8/15\n",
      "782/782 [==============================] - ETA: 0s - loss: 0.1422 - accuracy: 0.9550\n",
      "Epoch 8: val_accuracy did not improve from 0.87130\n",
      "782/782 [==============================] - 96s 123ms/step - loss: 0.1422 - accuracy: 0.9550 - val_loss: 0.4908 - val_accuracy: 0.8559\n",
      "Epoch 9/15\n",
      "782/782 [==============================] - ETA: 0s - loss: 0.1181 - accuracy: 0.9624\n",
      "Epoch 9: val_accuracy improved from 0.87130 to 0.87820, saving model to /Users/ezalta/Documents/GitHub/atlas-machine_learning/unsupervised_learning//hyperparameter_tuning/ckpt_lr_0.01_beta1_0.85_beta2_0.99_epochs_15_batch_64.h5\n",
      "782/782 [==============================] - 97s 124ms/step - loss: 0.1181 - accuracy: 0.9624 - val_loss: 0.4248 - val_accuracy: 0.8782\n",
      "Epoch 10/15\n",
      "782/782 [==============================] - ETA: 0s - loss: 0.1030 - accuracy: 0.9669\n",
      "Epoch 10: val_accuracy improved from 0.87820 to 0.88110, saving model to /Users/ezalta/Documents/GitHub/atlas-machine_learning/unsupervised_learning//hyperparameter_tuning/ckpt_lr_0.01_beta1_0.85_beta2_0.99_epochs_15_batch_64.h5\n",
      "782/782 [==============================] - 96s 123ms/step - loss: 0.1030 - accuracy: 0.9669 - val_loss: 0.4232 - val_accuracy: 0.8811\n",
      "Epoch 11/15\n",
      "782/782 [==============================] - ETA: 0s - loss: 0.0936 - accuracy: 0.9707\n",
      "Epoch 11: val_accuracy improved from 0.88110 to 0.88780, saving model to /Users/ezalta/Documents/GitHub/atlas-machine_learning/unsupervised_learning//hyperparameter_tuning/ckpt_lr_0.01_beta1_0.85_beta2_0.99_epochs_15_batch_64.h5\n",
      "782/782 [==============================] - 95s 122ms/step - loss: 0.0936 - accuracy: 0.9707 - val_loss: 0.3825 - val_accuracy: 0.8878\n",
      "Epoch 12/15\n",
      "782/782 [==============================] - ETA: 0s - loss: 0.0805 - accuracy: 0.9742\n",
      "Epoch 12: val_accuracy did not improve from 0.88780\n",
      "782/782 [==============================] - 95s 121ms/step - loss: 0.0805 - accuracy: 0.9742 - val_loss: 0.4388 - val_accuracy: 0.8819\n",
      "Epoch 13/15\n",
      "782/782 [==============================] - ETA: 0s - loss: 0.0729 - accuracy: 0.9775\n",
      "Epoch 13: val_accuracy did not improve from 0.88780\n",
      "782/782 [==============================] - 95s 121ms/step - loss: 0.0729 - accuracy: 0.9775 - val_loss: 0.6977 - val_accuracy: 0.8324\n",
      "Epoch 14/15\n",
      "782/782 [==============================] - ETA: 0s - loss: 0.0683 - accuracy: 0.9785\n",
      "Epoch 14: val_accuracy did not improve from 0.88780\n",
      "782/782 [==============================] - 95s 122ms/step - loss: 0.0683 - accuracy: 0.9785 - val_loss: 0.4992 - val_accuracy: 0.8753\n",
      "Epoch 15/15\n",
      "782/782 [==============================] - ETA: 0s - loss: 0.0608 - accuracy: 0.9807\n",
      "Epoch 15: val_accuracy improved from 0.88780 to 0.89230, saving model to /Users/ezalta/Documents/GitHub/atlas-machine_learning/unsupervised_learning//hyperparameter_tuning/ckpt_lr_0.01_beta1_0.85_beta2_0.99_epochs_15_batch_64.h5\n",
      "782/782 [==============================] - 95s 122ms/step - loss: 0.0608 - accuracy: 0.9807 - val_loss: 0.4069 - val_accuracy: 0.8923\n"
     ]
    },
    {
     "name": "stderr",
     "output_type": "stream",
     "text": [
      "WARNING:absl:At this time, the v2.11+ optimizer `tf.keras.optimizers.Adam` runs slowly on M1/M2 Macs, please use the legacy Keras optimizer instead, located at `tf.keras.optimizers.legacy.Adam`.\n",
      "WARNING:absl:`lr` is deprecated in Keras optimizer, please use `learning_rate` or use the legacy optimizer, e.g.,tf.keras.optimizers.legacy.Adam.\n",
      "WARNING:absl:There is a known slowdown when using v2.11+ Keras optimizers on M1/M2 Macs. Falling back to the legacy Keras optimizer, i.e., `tf.keras.optimizers.legacy.Adam`.\n"
     ]
    },
    {
     "name": "stdout",
     "output_type": "stream",
     "text": [
      "Epoch 1/15\n"
     ]
    },
    {
     "name": "stderr",
     "output_type": "stream",
     "text": [
      "2024-06-09 21:43:16.292315: I tensorflow/core/grappler/optimizers/custom_graph_optimizer_registry.cc:114] Plugin optimizer for device_type GPU is enabled.\n"
     ]
    },
    {
     "name": "stdout",
     "output_type": "stream",
     "text": [
      "782/782 [==============================] - ETA: 0s - loss: 0.9524 - accuracy: 0.7017"
     ]
    },
    {
     "name": "stderr",
     "output_type": "stream",
     "text": [
      "2024-06-09 21:45:00.919573: I tensorflow/core/grappler/optimizers/custom_graph_optimizer_registry.cc:114] Plugin optimizer for device_type GPU is enabled.\n"
     ]
    },
    {
     "name": "stdout",
     "output_type": "stream",
     "text": [
      "\n",
      "Epoch 1: val_accuracy improved from -inf to 0.70190, saving model to /Users/ezalta/Documents/GitHub/atlas-machine_learning/unsupervised_learning//hyperparameter_tuning/ckpt_lr_0.01_beta1_0.85_beta2_0.99_epochs_15_batch_64.h5\n",
      "782/782 [==============================] - 116s 138ms/step - loss: 0.9524 - accuracy: 0.7017 - val_loss: 0.9337 - val_accuracy: 0.7019\n",
      "Epoch 2/15\n",
      "782/782 [==============================] - ETA: 0s - loss: 0.5637 - accuracy: 0.8235\n",
      "Epoch 2: val_accuracy improved from 0.70190 to 0.75640, saving model to /Users/ezalta/Documents/GitHub/atlas-machine_learning/unsupervised_learning//hyperparameter_tuning/ckpt_lr_0.01_beta1_0.85_beta2_0.99_epochs_15_batch_64.h5\n",
      "782/782 [==============================] - 96s 123ms/step - loss: 0.5637 - accuracy: 0.8235 - val_loss: 0.7872 - val_accuracy: 0.7564\n",
      "Epoch 3/15\n",
      "782/782 [==============================] - ETA: 0s - loss: 0.4145 - accuracy: 0.8683\n",
      "Epoch 3: val_accuracy improved from 0.75640 to 0.82070, saving model to /Users/ezalta/Documents/GitHub/atlas-machine_learning/unsupervised_learning//hyperparameter_tuning/ckpt_lr_0.01_beta1_0.85_beta2_0.99_epochs_15_batch_64.h5\n",
      "782/782 [==============================] - 95s 122ms/step - loss: 0.4145 - accuracy: 0.8683 - val_loss: 0.5289 - val_accuracy: 0.8207\n",
      "Epoch 4/15\n",
      "782/782 [==============================] - ETA: 0s - loss: 0.3133 - accuracy: 0.9003\n",
      "Epoch 4: val_accuracy did not improve from 0.82070\n",
      "782/782 [==============================] - 95s 121ms/step - loss: 0.3133 - accuracy: 0.9003 - val_loss: 0.5928 - val_accuracy: 0.8150\n",
      "Epoch 5/15\n",
      "782/782 [==============================] - ETA: 0s - loss: 0.2521 - accuracy: 0.9205\n",
      "Epoch 5: val_accuracy improved from 0.82070 to 0.85690, saving model to /Users/ezalta/Documents/GitHub/atlas-machine_learning/unsupervised_learning//hyperparameter_tuning/ckpt_lr_0.01_beta1_0.85_beta2_0.99_epochs_15_batch_64.h5\n",
      "782/782 [==============================] - 96s 122ms/step - loss: 0.2521 - accuracy: 0.9205 - val_loss: 0.4329 - val_accuracy: 0.8569\n",
      "Epoch 6/15\n",
      "782/782 [==============================] - ETA: 0s - loss: 0.2088 - accuracy: 0.9341\n",
      "Epoch 6: val_accuracy did not improve from 0.85690\n",
      "782/782 [==============================] - 95s 121ms/step - loss: 0.2088 - accuracy: 0.9341 - val_loss: 0.5400 - val_accuracy: 0.8381\n",
      "Epoch 7/15\n",
      "782/782 [==============================] - ETA: 0s - loss: 0.1687 - accuracy: 0.9462\n",
      "Epoch 7: val_accuracy improved from 0.85690 to 0.87560, saving model to /Users/ezalta/Documents/GitHub/atlas-machine_learning/unsupervised_learning//hyperparameter_tuning/ckpt_lr_0.01_beta1_0.85_beta2_0.99_epochs_15_batch_64.h5\n",
      "782/782 [==============================] - 95s 122ms/step - loss: 0.1687 - accuracy: 0.9462 - val_loss: 0.4213 - val_accuracy: 0.8756\n",
      "Epoch 8/15\n",
      "782/782 [==============================] - ETA: 0s - loss: 0.1417 - accuracy: 0.9543\n",
      "Epoch 8: val_accuracy improved from 0.87560 to 0.87620, saving model to /Users/ezalta/Documents/GitHub/atlas-machine_learning/unsupervised_learning//hyperparameter_tuning/ckpt_lr_0.01_beta1_0.85_beta2_0.99_epochs_15_batch_64.h5\n",
      "782/782 [==============================] - 95s 122ms/step - loss: 0.1417 - accuracy: 0.9543 - val_loss: 0.4291 - val_accuracy: 0.8762\n",
      "Epoch 9/15\n",
      "782/782 [==============================] - ETA: 0s - loss: 0.1212 - accuracy: 0.9617\n",
      "Epoch 9: val_accuracy improved from 0.87620 to 0.88860, saving model to /Users/ezalta/Documents/GitHub/atlas-machine_learning/unsupervised_learning//hyperparameter_tuning/ckpt_lr_0.01_beta1_0.85_beta2_0.99_epochs_15_batch_64.h5\n",
      "782/782 [==============================] - 96s 122ms/step - loss: 0.1212 - accuracy: 0.9617 - val_loss: 0.3710 - val_accuracy: 0.8886\n",
      "Epoch 10/15\n",
      "782/782 [==============================] - ETA: 0s - loss: 0.1008 - accuracy: 0.9681\n",
      "Epoch 10: val_accuracy did not improve from 0.88860\n",
      "782/782 [==============================] - 95s 122ms/step - loss: 0.1008 - accuracy: 0.9681 - val_loss: 0.4302 - val_accuracy: 0.8762\n",
      "Epoch 11/15\n",
      "782/782 [==============================] - ETA: 0s - loss: 0.0921 - accuracy: 0.9706\n",
      "Epoch 11: val_accuracy improved from 0.88860 to 0.89410, saving model to /Users/ezalta/Documents/GitHub/atlas-machine_learning/unsupervised_learning//hyperparameter_tuning/ckpt_lr_0.01_beta1_0.85_beta2_0.99_epochs_15_batch_64.h5\n",
      "782/782 [==============================] - 96s 123ms/step - loss: 0.0921 - accuracy: 0.9706 - val_loss: 0.3783 - val_accuracy: 0.8941\n",
      "Epoch 12/15\n",
      "782/782 [==============================] - ETA: 0s - loss: 0.0786 - accuracy: 0.9742\n",
      "Epoch 12: val_accuracy did not improve from 0.89410\n",
      "782/782 [==============================] - 95s 121ms/step - loss: 0.0786 - accuracy: 0.9742 - val_loss: 0.4039 - val_accuracy: 0.8859\n",
      "Epoch 13/15\n",
      "782/782 [==============================] - ETA: 0s - loss: 0.0755 - accuracy: 0.9759\n",
      "Epoch 13: val_accuracy did not improve from 0.89410\n",
      "782/782 [==============================] - 96s 122ms/step - loss: 0.0755 - accuracy: 0.9759 - val_loss: 0.4542 - val_accuracy: 0.8865\n",
      "Epoch 14/15\n",
      "782/782 [==============================] - ETA: 0s - loss: 0.0643 - accuracy: 0.9795\n",
      "Epoch 14: val_accuracy improved from 0.89410 to 0.89430, saving model to /Users/ezalta/Documents/GitHub/atlas-machine_learning/unsupervised_learning//hyperparameter_tuning/ckpt_lr_0.01_beta1_0.85_beta2_0.99_epochs_15_batch_64.h5\n",
      "782/782 [==============================] - 96s 122ms/step - loss: 0.0643 - accuracy: 0.9795 - val_loss: 0.4062 - val_accuracy: 0.8943\n",
      "Epoch 15/15\n",
      "782/782 [==============================] - ETA: 0s - loss: 0.0609 - accuracy: 0.9811\n",
      "Epoch 15: val_accuracy did not improve from 0.89430\n",
      "782/782 [==============================] - 94s 121ms/step - loss: 0.0609 - accuracy: 0.9811 - val_loss: 0.4034 - val_accuracy: 0.8921\n"
     ]
    },
    {
     "data": {
      "image/png": "[encoded data removed]",
      "text/plain": [
       "<Figure size 1000x500 with 2 Axes>"
      ]
     },
     "metadata": {},
     "output_type": "display_data"
    },
    {
     "name": "stdout",
     "output_type": "stream",
     "text": [
      "Best Hyperparameters:\n",
      "Learning Rate: 0.008588998889416569\n",
      "Beta1: 0.9024607116077724\n",
      "Beta2: 0.9925083779644893\n",
      "Number of Epochs: 5\n",
      "Batch Size: 128\n"
     ]
    }
   ],
   "source": [
    "#!/usr/bin/env python3\n",
    "\n",
    "import os\n",
    "import numpy as np\n",
    "import GPyOpt\n",
    "import tensorflow.keras as K\n",
    "\n",
    "from keras.applications.densenet import DenseNet121\n",
    "from keras.datasets import cifar10\n",
    "from keras.optimizers import Adam\n",
    "from keras.preprocessing.image import ImageDataGenerator\n",
    "from keras.utils import to_categorical\n",
    "from keras.callbacks import ModelCheckpoint, EarlyStopping\n",
    "\n",
    "def preprocess_data(X, Y):\n",
    "    \"\"\"\n",
    "    Pre-processes the data for your model\n",
    "\n",
    "    Inputs:\n",
    "    X - numpy.ndarray (m, 32, 32, 3) containing the CIFAR 10 data, where\n",
    "        m is the number of data points\n",
    "    Y - numpy.ndarray (m,) containing the CIFAR 10 labels for X\n",
    "\n",
    "    Returns:\n",
    "    X_p - numpy.ndarray containing the preprocessed X\n",
    "    Y_p - numpy.ndarray containing the preprocessed Y\n",
    "    \"\"\"\n",
    "    X_p = K.applications.densenet.preprocess_input(X)\n",
    "    Y_p = K.utils.to_categorical(Y, 10)\n",
    "    return X_p, Y_p\n",
    "\n",
    "# Load CIFAR-10 dataset\n",
    "(X_train, Y_train), (X_test, Y_test) = K.datasets.cifar10.load_data()\n",
    "X_train, Y_train = preprocess_data(X_train, Y_train)\n",
    "X_test, Y_test = preprocess_data(X_test, Y_test)\n",
    "\n",
    "# Normalize pixel values\n",
    "inputs = K.Input(shape=(32, 32, 3))\n",
    "input_resized = K.layers.Lambda(lambda image: K.backend.resize_images(\n",
    "    image, 160/32, 160/32, \"channels_last\"))(inputs)\n",
    "\n",
    "# Define the base model model\n",
    "def create_model(learning_rate, beta1, beta2, num_epochs, batch_size):\n",
    "    base_model = K.applications.InceptionV3(include_top=False,\n",
    "                                            weights='imagenet',\n",
    "                                            input_tensor=input_resized,\n",
    "                                            input_shape=(160, 160, 3),\n",
    "                                            pooling='avg')\n",
    "\n",
    "    model = K.models.Sequential()\n",
    "    model.add(base_model)\n",
    "\n",
    "    model.add(K.layers.Flatten())\n",
    "\n",
    "    # model.add(K.layers.Dense(256, activation=('relu')))\n",
    "    model.add(K.layers.Dense(256))\n",
    "    model.add(K.layers.BatchNormalization())\n",
    "    model.add(K.layers.Activation('relu'))\n",
    "    model.add(K.layers.Dropout(0.5))\n",
    "\n",
    "    # model.add(K.layers.Dense(128, activation=('relu')))\n",
    "    model.add(K.layers.Dense(128))\n",
    "    model.add(K.layers.BatchNormalization())\n",
    "    model.add(K.layers.Activation('relu'))\n",
    "    model.add(K.layers.Dropout(0.35))\n",
    "\n",
    "    # model.add(K.layers.Dense(64, activation=('relu')))\n",
    "    model.add(K.layers.Dense(64))\n",
    "    model.add(K.layers.BatchNormalization())\n",
    "    model.add(K.layers.Activation('relu'))\n",
    "    model.add(K.layers.Dropout(0.2))\n",
    "\n",
    "    model.add(K.layers.Dense(10, activation=('softmax')))\n",
    "\n",
    "    optimizer = K.optimizers.Adam(lr=learning_rate, beta_1=beta1, beta_2=beta2)\n",
    "\n",
    "    model.compile(optimizer=optimizer,\n",
    "                  loss='categorical_crossentropy',\n",
    "                  metrics=['accuracy'])\n",
    "\n",
    "    return model\n",
    "\n",
    "# Define the evaluation function\n",
    "def evaluate_model(params):\n",
    "    learning_rate = params[0, 0]\n",
    "    beta1 = params[0, 1]\n",
    "    beta2 = params[0, 2]\n",
    "    num_epochs = int(params[0, 3])\n",
    "    batch_size = int(params[0, 4])\n",
    "\n",
    "    model = create_model(learning_rate, beta1, beta2, num_epochs, batch_size)\n",
    "\n",
    "    # Define checkpoint and early stopping callbacks\n",
    "    ckpt_path = os.path.expanduser(\"/Users/ezalta/Documents/GitHub/atlas-machine_learning/unsupervised_learning//hyperparameter_tuning/ckpt_lr_{}_beta1_{}_beta2_{}_epochs_{}_batch_{}.h5\".format(\n",
    "        learning_rate.round(5),\n",
    "        beta1.round(4),\n",
    "        beta2.round(4),\n",
    "        num_epochs,\n",
    "        batch_size,\n",
    "        ))\n",
    "    checkpoint = ModelCheckpoint(ckpt_path,\n",
    "                                 monitor='val_accuracy',\n",
    "                                 save_best_only=True,\n",
    "                                 mode='max',\n",
    "                                 verbose=1)\n",
    "    early_stopping = EarlyStopping(monitor='val_accuracy',\n",
    "                                   patience=5,\n",
    "                                   mode='max',\n",
    "                                   verbose=1)\n",
    "\n",
    "    # Train the model\n",
    "    history = model.fit(\n",
    "        X_train, Y_train,\n",
    "        batch_size=batch_size,\n",
    "        epochs=num_epochs,\n",
    "        validation_data=(X_test, Y_test),\n",
    "        callbacks=[checkpoint, early_stopping],\n",
    "        verbose=1\n",
    "    )\n",
    "\n",
    "    # Get the best accuracy from the training\n",
    "    best_accuracy = max(history.history['val_accuracy'])\n",
    "\n",
    "    return best_accuracy\n",
    "\n",
    "# Define the bounds of the hyperparameters\n",
    "bounds = [\n",
    "    {'name': 'learning_rate', 'type': 'continuous', 'domain': (1e-6, 1e-2)},\n",
    "    {'name': 'beta1', 'type': 'continuous', 'domain': (0.85, 0.95)},\n",
    "    {'name': 'beta2', 'type': 'continuous', 'domain': (0.99, 0.999)},\n",
    "    {'name': 'num_epochs', 'type': 'discrete', 'domain': (5, 10, 15)},\n",
    "    {'name': 'batch_size', 'type': 'discrete', 'domain': (32, 64, 128)},\n",
    "]\n",
    "\n",
    "# Run Bayesian optimization\n",
    "opt = GPyOpt.methods.BayesianOptimization(f=evaluate_model,\n",
    "                                          domain=bounds,\n",
    "                                          maximize=True)\n",
    "report_file_path = os.path.expanduser(\"/Users/ezalta/Documents/GitHub/atlas-machine_learning/unsupervised_learning//hyperparameter_tuning/bayes_opt.txt\")\n",
    "opt.run_optimization(max_iter=30, report_file=\"/Users/ezalta/Documents/GitHub/atlas-machine_learning/unsupervised_learning//hyperparameter_tuning/bayes_opt.txt\")\n",
    "\n",
    "# Plot the convergence\n",
    "opt.plot_convergence()\n",
    "\n",
    "# Show the best hyperparameters\n",
    "best_hyperparams = opt.X[np.argmax(opt.Y)]\n",
    "print(\"Best Hyperparameters:\")\n",
    "print(\"Learning Rate:\", best_hyperparams[0])\n",
    "print(\"Beta1:\", best_hyperparams[1])\n",
    "print(\"Beta2:\", best_hyperparams[2])\n",
    "print(\"Number of Epochs:\", int(best_hyperparams[3]))\n",
    "print(\"Batch Size:\", int(best_hyperparams[4]))\n"
   ]
  }
 ],
 "metadata": {
  "kernelspec": {
   "display_name": "base",
   "language": "python",
   "name": "python3"
  },
  "language_info": {
   "codemirror_mode": {
    "name": "ipython",
    "version": 3
   },
   "file_extension": ".py",
   "mimetype": "text/x-python",
   "name": "python",
   "nbconvert_exporter": "python",
   "pygments_lexer": "ipython3",
   "version": "3.11.5"
  }
 },
 "nbformat": 4,
 "nbformat_minor": 2
}
