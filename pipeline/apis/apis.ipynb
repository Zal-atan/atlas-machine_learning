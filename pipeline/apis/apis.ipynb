{
 "cells": [
  {
   "cell_type": "code",
   "execution_count": 1,
   "metadata": {},
   "outputs": [],
   "source": [
    "from requests import get"
   ]
  },
  {
   "cell_type": "code",
   "execution_count": 45,
   "metadata": {},
   "outputs": [
    {
     "name": "stdout",
     "output_type": "stream",
     "text": [
      "{'count': 36, 'next': 'https://swapi-api.hbtn.io/api/starships/?page=2', 'previous': None, 'results': [{'name': 'CR90 corvette', 'model': 'CR90 corvette', 'manufacturer': 'Corellian Engineering Corporation', 'cost_in_credits': '3500000', 'length': '150', 'max_atmosphering_speed': '950', 'crew': '30-165', 'passengers': '600', 'cargo_capacity': '3000000', 'consumables': '1 year', 'hyperdrive_rating': '2.0', 'MGLT': '60', 'starship_class': 'corvette', 'pilots': [], 'films': ['https://swapi-api.hbtn.io/api/films/1/', 'https://swapi-api.hbtn.io/api/films/3/', 'https://swapi-api.hbtn.io/api/films/6/'], 'created': '2014-12-10T14:20:33.369000Z', 'edited': '2014-12-20T21:23:49.867000Z', 'url': 'https://swapi-api.hbtn.io/api/starships/2/'}, {'name': 'Star Destroyer', 'model': 'Imperial I-class Star Destroyer', 'manufacturer': 'Kuat Drive Yards', 'cost_in_credits': '150000000', 'length': '1,600', 'max_atmosphering_speed': '975', 'crew': '47,060', 'passengers': 'n/a', 'cargo_capacity': '36000000', 'consumables': '2 years', 'hyperdrive_rating': '2.0', 'MGLT': '60', 'starship_class': 'Star Destroyer', 'pilots': [], 'films': ['https://swapi-api.hbtn.io/api/films/1/', 'https://swapi-api.hbtn.io/api/films/2/', 'https://swapi-api.hbtn.io/api/films/3/'], 'created': '2014-12-10T15:08:19.848000Z', 'edited': '2014-12-20T21:23:49.870000Z', 'url': 'https://swapi-api.hbtn.io/api/starships/3/'}, {'name': 'Sentinel-class landing craft', 'model': 'Sentinel-class landing craft', 'manufacturer': 'Sienar Fleet Systems, Cyngus Spaceworks', 'cost_in_credits': '240000', 'length': '38', 'max_atmosphering_speed': '1000', 'crew': '5', 'passengers': '75', 'cargo_capacity': '180000', 'consumables': '1 month', 'hyperdrive_rating': '1.0', 'MGLT': '70', 'starship_class': 'landing craft', 'pilots': [], 'films': ['https://swapi-api.hbtn.io/api/films/1/'], 'created': '2014-12-10T15:48:00.586000Z', 'edited': '2014-12-20T21:23:49.873000Z', 'url': 'https://swapi-api.hbtn.io/api/starships/5/'}, {'name': 'Death Star', 'model': 'DS-1 Orbital Battle Station', 'manufacturer': 'Imperial Department of Military Research, Sienar Fleet Systems', 'cost_in_credits': '1000000000000', 'length': '120000', 'max_atmosphering_speed': 'n/a', 'crew': '342,953', 'passengers': '843,342', 'cargo_capacity': '1000000000000', 'consumables': '3 years', 'hyperdrive_rating': '4.0', 'MGLT': '10', 'starship_class': 'Deep Space Mobile Battlestation', 'pilots': [], 'films': ['https://swapi-api.hbtn.io/api/films/1/'], 'created': '2014-12-10T16:36:50.509000Z', 'edited': '2014-12-20T21:26:24.783000Z', 'url': 'https://swapi-api.hbtn.io/api/starships/9/'}, {'name': 'Millennium Falcon', 'model': 'YT-1300 light freighter', 'manufacturer': 'Corellian Engineering Corporation', 'cost_in_credits': '100000', 'length': '34.37', 'max_atmosphering_speed': '1050', 'crew': '4', 'passengers': '6', 'cargo_capacity': '100000', 'consumables': '2 months', 'hyperdrive_rating': '0.5', 'MGLT': '75', 'starship_class': 'Light freighter', 'pilots': ['https://swapi-api.hbtn.io/api/people/13/', 'https://swapi-api.hbtn.io/api/people/14/', 'https://swapi-api.hbtn.io/api/people/25/', 'https://swapi-api.hbtn.io/api/people/31/'], 'films': ['https://swapi-api.hbtn.io/api/films/1/', 'https://swapi-api.hbtn.io/api/films/2/', 'https://swapi-api.hbtn.io/api/films/3/', 'https://swapi-api.hbtn.io/api/films/7/'], 'created': '2014-12-10T16:59:45.094000Z', 'edited': '2014-12-20T21:23:49.880000Z', 'url': 'https://swapi-api.hbtn.io/api/starships/10/'}, {'name': 'Y-wing', 'model': 'BTL Y-wing', 'manufacturer': 'Koensayr Manufacturing', 'cost_in_credits': '134999', 'length': '14', 'max_atmosphering_speed': '1000km', 'crew': '2', 'passengers': '0', 'cargo_capacity': '110', 'consumables': '1 week', 'hyperdrive_rating': '1.0', 'MGLT': '80', 'starship_class': 'assault starfighter', 'pilots': [], 'films': ['https://swapi-api.hbtn.io/api/films/1/', 'https://swapi-api.hbtn.io/api/films/2/', 'https://swapi-api.hbtn.io/api/films/3/'], 'created': '2014-12-12T11:00:39.817000Z', 'edited': '2014-12-20T21:23:49.883000Z', 'url': 'https://swapi-api.hbtn.io/api/starships/11/'}, {'name': 'X-wing', 'model': 'T-65 X-wing', 'manufacturer': 'Incom Corporation', 'cost_in_credits': '149999', 'length': '12.5', 'max_atmosphering_speed': '1050', 'crew': '1', 'passengers': '0', 'cargo_capacity': '110', 'consumables': '1 week', 'hyperdrive_rating': '1.0', 'MGLT': '100', 'starship_class': 'Starfighter', 'pilots': ['https://swapi-api.hbtn.io/api/people/1/', 'https://swapi-api.hbtn.io/api/people/9/', 'https://swapi-api.hbtn.io/api/people/18/', 'https://swapi-api.hbtn.io/api/people/19/'], 'films': ['https://swapi-api.hbtn.io/api/films/1/', 'https://swapi-api.hbtn.io/api/films/2/', 'https://swapi-api.hbtn.io/api/films/3/'], 'created': '2014-12-12T11:19:05.340000Z', 'edited': '2014-12-20T21:23:49.886000Z', 'url': 'https://swapi-api.hbtn.io/api/starships/12/'}, {'name': 'TIE Advanced x1', 'model': 'Twin Ion Engine Advanced x1', 'manufacturer': 'Sienar Fleet Systems', 'cost_in_credits': 'unknown', 'length': '9.2', 'max_atmosphering_speed': '1200', 'crew': '1', 'passengers': '0', 'cargo_capacity': '150', 'consumables': '5 days', 'hyperdrive_rating': '1.0', 'MGLT': '105', 'starship_class': 'Starfighter', 'pilots': ['https://swapi-api.hbtn.io/api/people/4/'], 'films': ['https://swapi-api.hbtn.io/api/films/1/'], 'created': '2014-12-12T11:21:32.991000Z', 'edited': '2014-12-20T21:23:49.889000Z', 'url': 'https://swapi-api.hbtn.io/api/starships/13/'}, {'name': 'Executor', 'model': 'Executor-class star dreadnought', 'manufacturer': 'Kuat Drive Yards, Fondor Shipyards', 'cost_in_credits': '1143350000', 'length': '19000', 'max_atmosphering_speed': 'n/a', 'crew': '279,144', 'passengers': '38000', 'cargo_capacity': '250000000', 'consumables': '6 years', 'hyperdrive_rating': '2.0', 'MGLT': '40', 'starship_class': 'Star dreadnought', 'pilots': [], 'films': ['https://swapi-api.hbtn.io/api/films/2/', 'https://swapi-api.hbtn.io/api/films/3/'], 'created': '2014-12-15T12:31:42.547000Z', 'edited': '2014-12-20T21:23:49.893000Z', 'url': 'https://swapi-api.hbtn.io/api/starships/15/'}, {'name': 'Rebel transport', 'model': 'GR-75 medium transport', 'manufacturer': 'Gallofree Yards, Inc.', 'cost_in_credits': 'unknown', 'length': '90', 'max_atmosphering_speed': '650', 'crew': '6', 'passengers': '90', 'cargo_capacity': '19000000', 'consumables': '6 months', 'hyperdrive_rating': '4.0', 'MGLT': '20', 'starship_class': 'Medium transport', 'pilots': [], 'films': ['https://swapi-api.hbtn.io/api/films/2/', 'https://swapi-api.hbtn.io/api/films/3/'], 'created': '2014-12-15T12:34:52.264000Z', 'edited': '2014-12-20T21:23:49.895000Z', 'url': 'https://swapi-api.hbtn.io/api/starships/17/'}]}\n"
     ]
    },
    {
     "ename": "KeyboardInterrupt",
     "evalue": "",
     "output_type": "error",
     "traceback": [
      "\u001b[0;31m---------------------------------------------------------------------------\u001b[0m",
      "\u001b[0;31mKeyboardInterrupt\u001b[0m                         Traceback (most recent call last)",
      "Cell \u001b[0;32mIn[45], line 41\u001b[0m\n\u001b[1;32m     37\u001b[0m         more_ships \u001b[38;5;241m=\u001b[39m \u001b[38;5;28;01mFalse\u001b[39;00m\n\u001b[1;32m     39\u001b[0m     \u001b[38;5;28;01mreturn\u001b[39;00m(ships_list)\n\u001b[0;32m---> 41\u001b[0m availableShips(\u001b[38;5;241m10\u001b[39m)\n",
      "Cell \u001b[0;32mIn[45], line 34\u001b[0m, in \u001b[0;36mavailableShips\u001b[0;34m(passengerCount)\u001b[0m\n\u001b[1;32m     32\u001b[0m         \u001b[38;5;28;01mif\u001b[39;00m ship[\u001b[38;5;124m'\u001b[39m\u001b[38;5;124mpassengers\u001b[39m\u001b[38;5;124m'\u001b[39m] \u001b[38;5;241m==\u001b[39m \u001b[38;5;124m\"\u001b[39m\u001b[38;5;124munknown\u001b[39m\u001b[38;5;124m\"\u001b[39m \u001b[38;5;129;01mor\u001b[39;00m ship[\u001b[38;5;124m'\u001b[39m\u001b[38;5;124mpassengers\u001b[39m\u001b[38;5;124m'\u001b[39m] \u001b[38;5;241m==\u001b[39m \u001b[38;5;124m\"\u001b[39m\u001b[38;5;124mn/a\u001b[39m\u001b[38;5;124m\"\u001b[39m:\n\u001b[1;32m     33\u001b[0m             \u001b[38;5;28;01mcontinue\u001b[39;00m\n\u001b[0;32m---> 34\u001b[0m         \u001b[38;5;28;01mif\u001b[39;00m \u001b[38;5;28mint\u001b[39m(ship[\u001b[38;5;124m'\u001b[39m\u001b[38;5;124mpassengers\u001b[39m\u001b[38;5;124m'\u001b[39m]) \u001b[38;5;241m>\u001b[39m \u001b[38;5;241m1000\u001b[39m:\n\u001b[1;32m     35\u001b[0m             ships_list\u001b[38;5;241m.\u001b[39mappend(ship[\u001b[38;5;124m'\u001b[39m\u001b[38;5;124mname\u001b[39m\u001b[38;5;124m'\u001b[39m])\n\u001b[1;32m     37\u001b[0m more_ships \u001b[38;5;241m=\u001b[39m \u001b[38;5;28;01mFalse\u001b[39;00m\n",
      "\u001b[0;31mKeyboardInterrupt\u001b[0m: "
     ]
    }
   ],
   "source": [
    "#!/usr/bin/env python3\n",
    "\"\"\" Module containing the availableShips() function\"\"\"\n",
    "\n",
    "\n",
    "BASE_API = \"https://swapi-api.hbtn.io/api/\"\n",
    "\n",
    "def availableShips(passengerCount):\n",
    "    \"\"\"\n",
    "    Method that returns the list of ships that can hold a \n",
    "    given number of passengers\n",
    "    \n",
    "    Inputs:\n",
    "    passengerCount - int - number of passengers\n",
    "\n",
    "    Returns:\n",
    "    List of ships which can carry passengerCount number of passengers\n",
    "    \"\"\"\n",
    "    ships_list = []\n",
    "\n",
    "    response = get(BASE_API + \"starships/\")\n",
    "\n",
    "    ships_json = response.json()\n",
    "    print(ships_json)\n",
    "    \n",
    "    more_ships = True\n",
    "    while more_ships:\n",
    "        page = 1\n",
    "        response = get(BASE_API + \"starships/\" + f\"?page={page}\")\n",
    "        while ships_json['next']:\n",
    "            for ship in ships_json['results']:\n",
    "                ship['passengers'] = ship['passengers'].replace(',', '')\n",
    "                if ship['passengers'] == \"unknown\" or ship['passengers'] == \"n/a\":\n",
    "                    continue\n",
    "                if int(ship['passengers']) > 1000:\n",
    "                    ships_list.append(ship['name'])\n",
    "            \n",
    "            page += 1\n",
    "            print(ships_list)\n",
    "\n",
    "        more_ships = False\n",
    "\n",
    "    return(ships_list)\n",
    "\n",
    "availableShips(10)"
   ]
  }
 ],
 "metadata": {
  "language_info": {
   "name": "python"
  }
 },
 "nbformat": 4,
 "nbformat_minor": 2
}
