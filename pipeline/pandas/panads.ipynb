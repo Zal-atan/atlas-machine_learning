{
 "cells": [
  {
   "cell_type": "markdown",
   "metadata": {},
   "source": [
    "# Pandas Workbook"
   ]
  },
  {
   "cell_type": "code",
   "execution_count": 7,
   "metadata": {},
   "outputs": [],
   "source": [
    "import numpy as numpy\n",
    "import pandas as pd\n",
    "import string"
   ]
  },
  {
   "cell_type": "markdown",
   "metadata": {},
   "source": [
    "### Task 0\n",
    "Write a function def from_numpy(array): that creates a pd.DataFrame from a np.ndarray:\n",
    "\n",
    "* array is the np.ndarray from which you should create the pd.DataFrame\n",
    "* The columns of the pd.DataFrame should be labeled in alphabetical order and capitalized. There will not be more than 26 columns.\n",
    "* Returns: the newly created pd.DataFrame"
   ]
  },
  {
   "cell_type": "code",
   "execution_count": 8,
   "metadata": {},
   "outputs": [],
   "source": [
    "def from_numpy(array):\n",
    "    \"\"\"\n",
    "    Creates a pd.DataFrame from a np.ndarray:\n",
    "\n",
    "    Inputs:\n",
    "    array - np.ndarray\n",
    "\n",
    "    Returns:\n",
    "    pd.DataFrame\n",
    "    \"\"\"\n",
    "    # Get numb er of columns\n",
    "    num_columns = array.shape[1]\n",
    "\n",
    "    # Create column names from alphabet\n",
    "    columns = list(string.ascii_uppercase[:num_columns])\n",
    "\n",
    "    # Create DF\n",
    "    df = pd.DataFrame(array, columns=columns)\n",
    "\n",
    "    return df"
   ]
  },
  {
   "cell_type": "code",
   "execution_count": 9,
   "metadata": {},
   "outputs": [
    {
     "name": "stdout",
     "output_type": "stream",
     "text": [
      "          A         B         C         D         E         F         G  \\\n",
      "0  1.764052  0.400157  0.978738  2.240893  1.867558 -0.977278  0.950088   \n",
      "1 -0.103219  0.410599  0.144044  1.454274  0.761038  0.121675  0.443863   \n",
      "2  1.494079 -0.205158  0.313068 -0.854096 -2.552990  0.653619  0.864436   \n",
      "3  2.269755 -1.454366  0.045759 -0.187184  1.532779  1.469359  0.154947   \n",
      "4 -0.887786 -1.980796 -0.347912  0.156349  1.230291  1.202380 -0.387327   \n",
      "\n",
      "          H  \n",
      "0 -0.151357  \n",
      "1  0.333674  \n",
      "2 -0.742165  \n",
      "3  0.378163  \n",
      "4 -0.302303  \n",
      "          A         B         C\n",
      "0 -1.048553 -1.420018 -1.706270\n",
      "1  1.950775 -0.509652 -0.438074\n",
      "2 -1.252795  0.777490 -1.613898\n",
      "3 -0.212740 -0.895467  0.386902\n",
      "4 -0.510805 -1.180632 -0.028182\n",
      "5  0.428332  0.066517  0.302472\n",
      "6 -0.634322 -0.362741 -0.672460\n",
      "7 -0.359553 -0.813146 -1.726283\n",
      "8  0.177426 -0.401781 -1.630198\n"
     ]
    }
   ],
   "source": [
    "#!/usr/bin/env python3\n",
    "\n",
    "import numpy as np\n",
    "# from_numpy = __import__('0-from_numpy').from_numpy\n",
    "\n",
    "np.random.seed(0)\n",
    "A = np.random.randn(5, 8)\n",
    "print(from_numpy(A))\n",
    "B = np.random.randn(9, 3)\n",
    "print(from_numpy(B))"
   ]
  },
  {
   "cell_type": "markdown",
   "metadata": {},
   "source": [
    "### Task 1\n",
    "\n",
    "Write a python script that created a pd.DataFrame from a dictionary:\n",
    "\n",
    "* The first column should be labeled First and have the values 0.0, 0.5, 1.0, and 1.5\n",
    "* The second column should be labeled Second and have the values one, two, three, four\n",
    "* The rows should be labeled A, B, C, and D, respectively\n",
    "* The pd.DataFrame should be saved into the variable df"
   ]
  },
  {
   "cell_type": "code",
   "execution_count": null,
   "metadata": {},
   "outputs": [],
   "source": []
  },
  {
   "cell_type": "code",
   "execution_count": null,
   "metadata": {},
   "outputs": [],
   "source": []
  },
  {
   "cell_type": "markdown",
   "metadata": {},
   "source": []
  }
 ],
 "metadata": {
  "language_info": {
   "name": "python"
  }
 },
 "nbformat": 4,
 "nbformat_minor": 2
}
