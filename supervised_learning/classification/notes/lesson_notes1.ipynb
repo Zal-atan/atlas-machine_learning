{
 "cells": [
  {
   "cell_type": "markdown",
   "metadata": {},
   "source": [
    "# Classifications Readings Part 1\n",
    "\n",
    "##### Author - Ethan Zalta"
   ]
  },
  {
   "cell_type": "markdown",
   "metadata": {},
   "source": [
    "### Supervised vs Unsupervised\n",
    "\n",
    "1. **Supervised** - with human intervention\n",
    "\n",
    "    * These would be normal models with labels, the answers are already known and can be checked.\n",
    "\n",
    "2. **Unsupervised** - without human intervention\n",
    "\n",
    "    * These are more complex, these figure out patterns by themselves.\n",
    "    * Can find more complex patterns without human bias"
   ]
  },
  {
   "cell_type": "markdown",
   "metadata": {},
   "source": [
    "### What are Neural Networks\n",
    "\n",
    "* ANN - Artificial Neural Networks\n",
    "* BNN - Biological Neural Networks\\\n",
    "<br>\n",
    "We make artificial neural networks inspired by biological neural networks.\n",
    "<br>\n",
    "BNNs are very complex, so our ANNs can't quite model BNNs correctly, but we use the best we have.\n",
    "<br>\n",
    "The basic structure would be: inputs->weights(parameters)->hidden layer-> output"
   ]
  },
  {
   "cell_type": "markdown",
   "metadata": {},
   "source": [
    "**Forward Propogation** - The inputs being multiplied by the weights (parameters) as they move along to further toward outputs"
   ]
  },
  {
   "cell_type": "markdown",
   "metadata": {},
   "source": []
  }
 ],
 "metadata": {
  "language_info": {
   "name": "python"
  }
 },
 "nbformat": 4,
 "nbformat_minor": 2
}
