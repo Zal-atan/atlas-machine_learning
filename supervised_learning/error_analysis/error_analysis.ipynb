{
 "cells": [
  {
   "cell_type": "code",
   "execution_count": 1,
   "metadata": {},
   "outputs": [],
   "source": [
    "import numpy as np"
   ]
  },
  {
   "cell_type": "markdown",
   "metadata": {},
   "source": [
    "### Task 0 - create_confusion.py"
   ]
  },
  {
   "cell_type": "code",
   "execution_count": 2,
   "metadata": {},
   "outputs": [],
   "source": [
    "# Task 0 - create_confusion.py\n",
    "def create_confusion_matrix(labels, logits):\n",
    "    \"\"\"\n",
    "    Creates a confusion matrix:\n",
    "\n",
    "    Inputs:\n",
    "    labels -  one-hot numpy.ndarray of shape (m, classes) containing the\n",
    "              correct labels for each data point\n",
    "        m - number of data points\n",
    "        classes - number of classes\n",
    "    logits - one-hot numpy.ndarray (m, classes) containing predicted labels\n",
    "\n",
    "    Returns:\n",
    "    Confusion numpy.ndarray of shape (classes, classes) with\n",
    "    row indices representing the correct labels and\n",
    "    column indices representing the predicted labels\n",
    "    \"\"\"\n",
    "    return np.matmul(labels.T, logits)"
   ]
  },
  {
   "cell_type": "code",
   "execution_count": 3,
   "metadata": {},
   "outputs": [
    {
     "name": "stdout",
     "output_type": "stream",
     "text": [
      "[[4701.    0.   36.   17.   12.   81.   38.   11.   35.    1.]\n",
      " [   0. 5494.   36.   21.    3.   38.    7.   13.   59.    7.]\n",
      " [  64.   93. 4188.  103.  108.   17.  162.   80.  132.   21.]\n",
      " [  30.   48.  171. 4310.    2.  252.   22.   86.  128.   52.]\n",
      " [  17.   27.   35.    0. 4338.   11.   84.    9.   27.  311.]\n",
      " [  89.   57.   45.  235.   70. 3631.  123.   33.  163.   60.]\n",
      " [  47.   32.   87.    1.   64.   83. 4607.    0.   29.    1.]\n",
      " [  26.   95.   75.    7.   58.   18.    1. 4682.   13.  200.]\n",
      " [  31.  153.   82.  174.   27.  179.   64.    7. 4003.  122.]\n",
      " [  48.   37.   39.   71.  220.   49.    8.  244.   46. 4226.]]\n"
     ]
    }
   ],
   "source": [
    "# 0-main.py\n",
    "if __name__ == '__main__':\n",
    "    lib = np.load('labels_logits.npz')\n",
    "    labels = lib['labels']\n",
    "    logits = lib['logits']\n",
    "\n",
    "    np.set_printoptions(suppress=True)\n",
    "    confusion = create_confusion_matrix(labels, logits)\n",
    "    print(confusion)\n",
    "    np.savez_compressed('confusion.npz', confusion=confusion)"
   ]
  },
  {
   "cell_type": "markdown",
   "metadata": {},
   "source": [
    "### Task 1 - sensitivity.py"
   ]
  },
  {
   "cell_type": "code",
   "execution_count": 4,
   "metadata": {},
   "outputs": [],
   "source": [
    "# Task 1 - 1-sensitivity.py\n",
    "#!/usr/bin/env python3\n",
    "def sensitivity(confusion):\n",
    "    \"\"\"\n",
    "    Calculates the sensitivity for each class in a confusion matrix\n",
    "\n",
    "    Inputs:\n",
    "    confusion - confusion numpy.ndarray of shape (classes, classes) where\n",
    "        row indices represent the correct labels and\n",
    "        column indices represent the predicted labels\n",
    "        classes - the number of classes\n",
    "\n",
    "    Returns:\n",
    "    numpy.ndarray of shape (classes,) containing the sensitivity of each class\n",
    "    \"\"\"\n",
    "    return np.diagonal(confusion) / np.sum(confusion, axis=1)"
   ]
  },
  {
   "cell_type": "code",
   "execution_count": null,
   "metadata": {},
   "outputs": [],
   "source": [
    "# 1-main.py\n",
    "if __name__ == '__main__':\n",
    "    confusion = np.load('confusion.npz')['confusion']\n",
    "\n",
    "    np.set_printoptions(suppress=True)\n",
    "    print(sensitivity(confusion))"
   ]
  }
 ],
 "metadata": {
  "kernelspec": {
   "display_name": "Python 3",
   "language": "python",
   "name": "python3"
  },
  "language_info": {
   "codemirror_mode": {
    "name": "ipython",
    "version": 3
   },
   "file_extension": ".py",
   "mimetype": "text/x-python",
   "name": "python",
   "nbconvert_exporter": "python",
   "pygments_lexer": "ipython3",
   "version": "3.7.12"
  }
 },
 "nbformat": 4,
 "nbformat_minor": 2
}
